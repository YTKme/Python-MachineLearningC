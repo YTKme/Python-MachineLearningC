{
 "cells": [
  {
   "cell_type": "markdown",
   "metadata": {},
   "source": [
    "# Quiz\n",
    "\n",
    "1. Recommending items based on global popularity can\n",
    "    * Not provide personalization or capture context (e.g., time of day)\n",
    "    \n",
    "2. Recommending items using a classification approach can\n",
    "    * provide personalization\n",
    "    * capture context (e.g., time of day)\n",
    "\n",
    "3. Recommending items using a simple count based co-occurrence matrix can\n",
    "    * provide personalization\n",
    "    \n",
    "4. Recommending items using featurized matrix factorization can\n",
    "    * provide personalization\n",
    "    * capture context (e.g., time of day)\n",
    "\n",
    "5. Normalizing co-occurrence matrices is used primarily to account for:\n",
    "    * items purchased by many people\n",
    "    \n",
    "6. A store has 3 customers and 3 products. Below are the learned feature vectors for each user and product. Based on this estimated model, which product would you recommend most highly to User #2?\n",
    "    * Product #2\n",
    "\n",
    "User:\n",
    "* 1: (1.73, 0.01, 5.22)\n",
    "* 2: (0.03, 4.41, 2.05)\n",
    "* 3: (1.13, 0.89, 3.76)\n",
    "\n",
    "Product:\n",
    "* 1: (3.29, 3.44, 3.67)\n",
    "* 2: (0.82, 9.71, 3.88)\n",
    "* 3: (8.34, 1.72, 0.02)\n",
    "\n",
    "7. For the liked and recommended items displayed below, calculate the **recall** and round to 2 decimal points. (As in the lesson, green squares indicate recommended items, magenta squares are liked items. Items not recommended are grayed out for clarity.) Note: enter your answer in American decimal format (e.g. enter 0.98, not 0,98)\n",
    "    * (1/3) = 0.33\n",
    "    \n",
    "(liked + shown) / (liked)\n",
    "\n",
    "8. For the liked and recommended items displayed below, calculate the **precision** and round to 2 decimal points. (As in the lesson, green squares indicate recommended items, magenta squares are liked items. Items not recommended are grayed out for clarity.) Note: enter your answer in American decimal format (e.g. enter 0.98, not 0,98)\n",
    "    * (1/4) = 0.25\n",
    "\n",
    "(liked + shown) / (shown)\n",
    "\n",
    "9. Based on the precision-recall curves in the figure below, which recommender would you use?\n",
    "    * RecSys #1 (high precision, low recall)"
   ]
  }
 ],
 "metadata": {
  "kernelspec": {
   "display_name": "Python 2",
   "language": "python",
   "name": "python2"
  },
  "language_info": {
   "codemirror_mode": {
    "name": "ipython",
    "version": 2
   },
   "file_extension": ".py",
   "mimetype": "text/x-python",
   "name": "python",
   "nbconvert_exporter": "python",
   "pygments_lexer": "ipython2",
   "version": "2.7.16"
  }
 },
 "nbformat": 4,
 "nbformat_minor": 2
}
