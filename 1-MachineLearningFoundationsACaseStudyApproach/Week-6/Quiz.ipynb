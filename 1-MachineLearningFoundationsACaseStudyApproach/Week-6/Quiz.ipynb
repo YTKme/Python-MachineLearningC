{
 "cells": [
  {
   "cell_type": "markdown",
   "metadata": {},
   "source": [
    "# Quiz\n",
    "\n",
    "1. Which of the following statements are true?\n",
    "    * Having good non-linear features can allow us to learn very accurate linear classifiers.\n",
    "\n",
    "2. A simple linear classifier can represent which of the following functions?\n",
    "    * `x1 OR x2 OR NOT x3`\n",
    "    * `x1 AND x2 AND NOT x3`\n",
    "    * `x1 OR (x2 AND NOT x3)`\n",
    "\n",
    "3. Which of the the following neural networks can represent the following function? Select all that apply.\n",
    "```\n",
    "(x1 AND x2) OR (NOT x1 AND NOT x2)\n",
    "```\n",
    "    * -1.5, 0.5, -0.5\n",
    "\n",
    "4. Which of the following statements is true?\n",
    "    * Features in computer vision act like local detectors.\n",
    "    * By learning non-linear features, neural networks have allowed us to automatically learn detectors for computer vision.\n",
    "\n",
    "5. If you have lots of images of different types of plankton labeled with their species name, and lots of computational resources, what would you expect to perform better predictions\n",
    "    * a deep neural network trained on this data.\n",
    "\n",
    "6. If you have a few images of different types of plankton labeled with their species name, what would you expect to perform better predictions\n",
    "    * a simple classifier trained on this data, using deep features as input, which were trained using ImageNet data."
   ]
  },
  {
   "cell_type": "code",
   "execution_count": null,
   "metadata": {},
   "outputs": [],
   "source": []
  }
 ],
 "metadata": {
  "kernelspec": {
   "display_name": "Python 2",
   "language": "python",
   "name": "python2"
  },
  "language_info": {
   "codemirror_mode": {
    "name": "ipython",
    "version": 2
   },
   "file_extension": ".py",
   "mimetype": "text/x-python",
   "name": "python",
   "nbconvert_exporter": "python",
   "pygments_lexer": "ipython2",
   "version": "2.7.16"
  }
 },
 "nbformat": 4,
 "nbformat_minor": 2
}
