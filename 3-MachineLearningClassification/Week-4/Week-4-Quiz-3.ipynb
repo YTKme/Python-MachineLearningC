{
 "cells": [
  {
   "cell_type": "markdown",
   "metadata": {},
   "source": [
    "# Quiz"
   ]
  },
  {
   "cell_type": "markdown",
   "metadata": {},
   "source": [
    "1. (True/False) Skipping data points (i.e., skipping rows of the data) that have missing features only works when the learning algorithm we are using is decision tree learning.\n",
    "    * False\n",
    "\n",
    "2. What are potential downsides of skipping features with missing values (i.e., skipping columns of the data) to handle missing data?\n",
    "    * So many features are skipped that accuracy can degrade\n",
    "    * If an input at prediction time has a feature missing that was always present during training, this approach is not applicable.\n",
    "\n",
    "3. (True/False) It’s always better to remove missing data points (i.e., rows) as opposed to removing missing features (i.e., columns).\n",
    "    * False\n",
    "\n",
    "4. Consider a dataset with N training points. After imputing missing values, the number of data points in the data set is\n",
    "    * N\n",
    "\n",
    "5. Consider a dataset with D features. After imputing missing values, the number of features in the data set is\n",
    "    * D\n",
    "\n",
    "6. Which of the following are always true when imputing missing data? Select all that apply.\n",
    "    * Imputed values can be used in any classification algorithm\n",
    "    * Imputed values can be used when there is missing data at prediction time\n",
    "\n",
    "7. Consider data that has binary features (i.e. the feature values are 0 or 1) with some feature values of some data points missing. When learning the best feature split at a node, how would we best modify the decision tree learning algorithm to handle data points with missing values for a feature?\n",
    "    * We choose to assign missing values to the branch of the tree (either the one with feature value equal to 0 or with feature value equal to 1) that minimizes classification error."
   ]
  },
  {
   "cell_type": "code",
   "execution_count": null,
   "metadata": {},
   "outputs": [],
   "source": []
  }
 ],
 "metadata": {
  "kernelspec": {
   "display_name": "Python 2",
   "language": "python",
   "name": "python2"
  },
  "language_info": {
   "codemirror_mode": {
    "name": "ipython",
    "version": 2
   },
   "file_extension": ".py",
   "mimetype": "text/x-python",
   "name": "python",
   "nbconvert_exporter": "python",
   "pygments_lexer": "ipython2",
   "version": "2.7.16"
  }
 },
 "nbformat": 4,
 "nbformat_minor": 2
}
