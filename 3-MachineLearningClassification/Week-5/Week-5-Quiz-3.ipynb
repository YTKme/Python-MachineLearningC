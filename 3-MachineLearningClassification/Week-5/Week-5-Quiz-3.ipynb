{
 "cells": [
  {
   "cell_type": "markdown",
   "metadata": {},
   "source": [
    "# Quiz"
   ]
  },
  {
   "cell_type": "markdown",
   "metadata": {},
   "source": [
    "1. Recall that the **classification error for unweighted data** is defined as follows:\n",
    "\n",
    "$$\n",
    "\\mbox{classification error} = \\frac{\\mbox{# mistakes}}{\\mbox{# all data points}}\n",
    "$$\n",
    "\n",
    "Meanwhile, the **weight of mistakes for weighted data** is given by\n",
    "$$\n",
    "\\mathrm{WM}(\\mathbf{\\alpha}, \\mathbf{\\hat{y}}) = \\sum_{i=1}^{n} \\alpha_i \\times 1[y_i \\neq \\hat{y_i}].\n",
    "$$\n",
    "\n",
    "If we set the weights ${\\alpha}=1$ for all data points, how is the weight of mistakes $\\mathrm{WM}(\\mathbf{\\alpha}, \\mathbf{\\hat{y}})$ related to the classification error?\n",
    "\n",
    "    * $\\mathrm{WM}(\\mathbf{\\alpha}, \\mathbf{\\hat{y}})$ = N * [classification error]\n",
    "\n",
    "2. Refer to section **Example: Training a weighted decision tree**.\n",
    "\n",
    "Will you get the same model as small_data_decision_tree_subset_20 if you trained a decision tree with only 20 data points from the set of points in subset_20?\n",
    "    * Yes\n",
    "\n",
    "3. Refer to the 10-component ensemble of tree stumps trained with Adaboost.\n",
    "\n",
    "As each component is trained sequentially, are the component weights monotonically decreasing, monotonically increasing, or neither?\n",
    "    * Neither\n",
    "\n",
    "4. Which of the following best describes a **general trend in accuracy** as we add more and more components? Answer based on the 30 components learned so far.\n",
    "    * Training error goes down in general, with some ups and downs in the middle.\n",
    "\n",
    "5. From this plot (with 30 trees), is there massive overfitting as the # of iterations increases?\n",
    "    * No"
   ]
  },
  {
   "cell_type": "code",
   "execution_count": null,
   "metadata": {},
   "outputs": [],
   "source": []
  }
 ],
 "metadata": {
  "kernelspec": {
   "display_name": "Python 2",
   "language": "python",
   "name": "python2"
  },
  "language_info": {
   "codemirror_mode": {
    "name": "ipython",
    "version": 2
   },
   "file_extension": ".py",
   "mimetype": "text/x-python",
   "name": "python",
   "nbconvert_exporter": "python",
   "pygments_lexer": "ipython2",
   "version": "2.7.16"
  }
 },
 "nbformat": 4,
 "nbformat_minor": 2
}
