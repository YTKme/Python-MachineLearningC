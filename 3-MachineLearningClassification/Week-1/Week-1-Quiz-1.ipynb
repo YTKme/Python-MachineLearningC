{
 "cells": [
  {
   "cell_type": "markdown",
   "metadata": {},
   "source": [
    "# Quiz"
   ]
  },
  {
   "cell_type": "markdown",
   "metadata": {},
   "source": [
    "1. (True/False) A linear classifier assigns the predicted class based on the sign of $Score(x)=w^Th(x)$.\n",
    "    * True\n",
    "\n",
    "2. (True/False) For a conditional probability distribution over y|x, where yyy takes on two values (+1, -1, i.e. good review, bad review) $P(y=+1|x)+P(y=−1|x)=1$.\n",
    "    * True\n",
    "\n",
    "3. Which function does logistic regression use to “squeeze” the real line to [0, 1]?\n",
    "    * Logistic function\n",
    "\n",
    "4. If $Score(x)=w^Th(x)>0$, which of the following is true about $P(y=+1|x)$?\n",
    "    * P(y = +1 | x) > 0.5\n",
    "\n",
    "5. Consider training a 1 vs. all multiclass classifier for the problem of digit recognition using logistic regression. There are 10 digits, thus there are 10 classes. How many logistic regression classifiers will we have to train?\n",
    "    * 10"
   ]
  },
  {
   "cell_type": "code",
   "execution_count": null,
   "metadata": {},
   "outputs": [],
   "source": []
  }
 ],
 "metadata": {
  "kernelspec": {
   "display_name": "Python 2",
   "language": "python",
   "name": "python2"
  },
  "language_info": {
   "codemirror_mode": {
    "name": "ipython",
    "version": 2
   },
   "file_extension": ".py",
   "mimetype": "text/x-python",
   "name": "python",
   "nbconvert_exporter": "python",
   "pygments_lexer": "ipython2",
   "version": "2.7.16"
  }
 },
 "nbformat": 4,
 "nbformat_minor": 2
}
