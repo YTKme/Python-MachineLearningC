{
 "cells": [
  {
   "cell_type": "markdown",
   "metadata": {},
   "source": [
    "# Quiz"
   ]
  },
  {
   "cell_type": "markdown",
   "metadata": {},
   "source": [
    "1. (True/False) A linear classifier can only learn positive coefficients.\n",
    "    * False\n",
    "\n",
    "2. (True/False) In order to train a logistic regression model, we find the weights that maximize the likelihood of the model.\n",
    "    * True\n",
    "\n",
    "3. (True/False) The data likelihood is the product of the probability of the inputs x given the weights $w$ and response $y$.\n",
    "    * False\n",
    "\n",
    "4. Questions 4 and 5 refer to the following scenario.\n",
    "\n",
    "Consider the setting where our inputs are 1-dimensional. We have data\n",
    "\n",
    "| $x$  | $y$ |\n",
    "|------|-----|\n",
    "| 2.5  |  +1 |\n",
    "| 0.3  | -1  |\n",
    "|  2.8 | +1  |\n",
    "| 0.5  | +1  |\n",
    "\n",
    "and the current estimates of the weights are $w_0=0$ and $w_1=1$. ($w_0$: the intercept, $w_1$: the weight for $x$).\n",
    "Calculate the likelihood of this data. Round your answer to 2 decimal places.\n",
    "    * 0.23\n",
    "\n",
    "5. Refer to the scenario given in Question 4 to answer the following:\n",
    "\n",
    "Calculate the derivative of the log likelihood with respect to $w_1$. Round your answer to 2 decimal places.\n",
    "    * 0.37\n",
    "\n",
    "6. Which of the following is true about gradient ascent? Select all that apply.\n",
    "    * It is an iterative algorithm\n",
    "    * It finds the maximum by “hill climbing”"
   ]
  },
  {
   "cell_type": "markdown",
   "metadata": {},
   "source": [
    "## Question 4"
   ]
  },
  {
   "cell_type": "code",
   "execution_count": 1,
   "metadata": {},
   "outputs": [],
   "source": [
    "import numpy as np"
   ]
  },
  {
   "cell_type": "code",
   "execution_count": 2,
   "metadata": {},
   "outputs": [],
   "source": [
    "def get_probability(score):\n",
    "    return 1.0 / (1.0 + np.exp(-float(score)))"
   ]
  },
  {
   "cell_type": "code",
   "execution_count": 3,
   "metadata": {},
   "outputs": [],
   "source": [
    "xs = [2.5, 0.3, 2.8, 0.5]\n",
    "ys = [True, False, True, True]"
   ]
  },
  {
   "cell_type": "code",
   "execution_count": 5,
   "metadata": {},
   "outputs": [
    {
     "name": "stdout",
     "output_type": "stream",
     "text": [
      "0.92\n",
      "0.57\n",
      "0.94\n",
      "0.62\n"
     ]
    }
   ],
   "source": [
    "print round(get_probability(xs[0]), 2)\n",
    "print round(get_probability(xs[1]), 2)\n",
    "print round(get_probability(xs[2]), 2)\n",
    "print round(get_probability(xs[3]), 2)"
   ]
  },
  {
   "cell_type": "code",
   "execution_count": 6,
   "metadata": {},
   "outputs": [
    {
     "data": {
      "text/plain": [
       "[0.92, 0.57, 0.94, 0.62]"
      ]
     },
     "execution_count": 6,
     "metadata": {},
     "output_type": "execute_result"
    }
   ],
   "source": [
    "[round(get_probability(x), 2) for x in xs]"
   ]
  },
  {
   "cell_type": "code",
   "execution_count": 7,
   "metadata": {},
   "outputs": [
    {
     "data": {
      "text/plain": [
       "0.23"
      ]
     },
     "execution_count": 7,
     "metadata": {},
     "output_type": "execute_result"
    }
   ],
   "source": [
    "# Calculate cumulative probability\n",
    "\n",
    "# 1-probability step when ys[i] is not true\n",
    "p = 1\n",
    "\n",
    "# Cumulatively multiply 'p' * get_probability(xs[i]) over length of xs\n",
    "for i in range(len(xs)):\n",
    "    if ys[i]:\n",
    "        p *= get_probability(xs[i])\n",
    "    else:\n",
    "        p *= 1 - get_probability(xs[i])\n",
    "\n",
    "round(p, 2)"
   ]
  },
  {
   "cell_type": "code",
   "execution_count": 8,
   "metadata": {},
   "outputs": [
    {
     "data": {
      "text/plain": [
       "0.37"
      ]
     },
     "execution_count": 8,
     "metadata": {},
     "output_type": "execute_result"
    }
   ],
   "source": [
    "s = 0\n",
    "for i in range(len(xs)):\n",
    "    # sum of xs[i] * ys[i] - get_probability(xs[i]) over all xd element\n",
    "    s += xs[i] * (int(ys[i]) - get_probability(xs[i]))\n",
    "    \n",
    "round(s, 2)"
   ]
  },
  {
   "cell_type": "code",
   "execution_count": null,
   "metadata": {},
   "outputs": [],
   "source": []
  }
 ],
 "metadata": {
  "kernelspec": {
   "display_name": "Python 2",
   "language": "python",
   "name": "python2"
  },
  "language_info": {
   "codemirror_mode": {
    "name": "ipython",
    "version": 2
   },
   "file_extension": ".py",
   "mimetype": "text/x-python",
   "name": "python",
   "nbconvert_exporter": "python",
   "pygments_lexer": "ipython2",
   "version": "2.7.16"
  }
 },
 "nbformat": 4,
 "nbformat_minor": 2
}
