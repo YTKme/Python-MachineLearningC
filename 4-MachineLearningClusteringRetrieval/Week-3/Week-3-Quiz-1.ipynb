{
 "cells": [
  {
   "cell_type": "markdown",
   "metadata": {},
   "source": [
    "# Quiz"
   ]
  },
  {
   "cell_type": "markdown",
   "metadata": {},
   "source": [
    "1. (True/False) k-means always converges to a local optimum.\n",
    "    * [X] True\n",
    "    * [ ] False"
   ]
  },
  {
   "cell_type": "markdown",
   "metadata": {},
   "source": [
    "2. (True/False) The clustering objective is non-increasing throughout a run of k-means.\n",
    "    * [X] True\n",
    "    * [ ] False"
   ]
  },
  {
   "cell_type": "markdown",
   "metadata": {},
   "source": [
    "3. (True/False) Running k-means with a larger value of k always enables a lower possible final objective value than running k-means with smaller k.\n",
    "    * [X] True\n",
    "    * [ ] False"
   ]
  },
  {
   "cell_type": "markdown",
   "metadata": {},
   "source": [
    "4. (True/False) Any initialization of the centroids in k-means is just as good as any other.\n",
    "    * [ ] True\n",
    "    * [X] False"
   ]
  },
  {
   "cell_type": "markdown",
   "metadata": {},
   "source": [
    "5. (True/False) Initializing centroids using k-means++ guarantees convergence to a global optimum.\n",
    "    * [ ] True\n",
    "    * [X] False"
   ]
  },
  {
   "cell_type": "markdown",
   "metadata": {},
   "source": [
    "6. (True/False) Initializing centroids using k-means++ costs more than random initialization in the beginning, but can pay off eventually by speeding up convergence.\n",
    "    * [X] True\n",
    "    * [ ] False"
   ]
  },
  {
   "cell_type": "markdown",
   "metadata": {},
   "source": [
    "7. (True/False) Using k-means++ can only influence the number of iterations to convergence, not the quality of the final assignments (i.e., objective value at convergence).\n",
    "    * [ ] True\n",
    "    * [X] False"
   ]
  },
  {
   "cell_type": "markdown",
   "metadata": {},
   "source": [
    "8. Consider the following dataset:\n",
    "\n",
    "|    &nbsp;    | X1    | X2    |\n",
    "|--------------|-------|-------|\n",
    "| Data point 1 | -1.88 | 2.05  |\n",
    "| Data point 2 | -0.71 | 0.42  |\n",
    "| Data point 3 | 2.41  | -0.67 |\n",
    "| Data point 4 | 1.85  | -3.80 |\n",
    "| Data point 5 | -3.69 | -1.33 |\n",
    "\n",
    "Perform k-means with k=2 until the cluster assignment does not change between successive iterations. Use the following initialization for the centroids:\n",
    "    \n",
    "|   &nbsp;  | X1    | X2    |\n",
    "|-----------|-------|-------|\n",
    "| Cluster 1 | 2.00  | 2.00  |\n",
    "| Cluster 2 | -2.00 | -2.00 |\n",
    "\n",
    "Which of the five data points changed its cluster assignment most often during the k-means run?    \n",
    "    * [ ] Data point 1\n",
    "    * [X] Data point 2\n",
    "    * [ ] Data point 3\n",
    "    * [ ] Data point 4\n",
    "    * [ ] Data point 5"
   ]
  },
  {
   "cell_type": "markdown",
   "metadata": {},
   "source": [
    "9. Suppose we initialize k-means with the following centroids\n",
    "    Which of the following best describes the cluster assignment in the first iteration of k-means? \n",
    "    * [X] Figure 1\n",
    "    * [ ] Figure 2\n",
    "    * [ ] Figure 3\n",
    "    * [ ] Figure 4\n",
    "    * [ ] Figure 5"
   ]
  },
  {
   "cell_type": "code",
   "execution_count": null,
   "metadata": {},
   "outputs": [],
   "source": []
  }
 ],
 "metadata": {
  "kernelspec": {
   "display_name": "Python 3",
   "language": "python",
   "name": "python3"
  },
  "language_info": {
   "codemirror_mode": {
    "name": "ipython",
    "version": 3
   },
   "file_extension": ".py",
   "mimetype": "text/x-python",
   "name": "python",
   "nbconvert_exporter": "python",
   "pygments_lexer": "ipython3",
   "version": "3.7.4"
  }
 },
 "nbformat": 4,
 "nbformat_minor": 2
}
