{
 "cells": [
  {
   "cell_type": "markdown",
   "metadata": {},
   "source": [
    "# Quiz"
   ]
  },
  {
   "cell_type": "markdown",
   "metadata": {},
   "source": [
    "1. Suppose we are operating on a 1D vector. Which of the following operation is not data parallel over the vector elements?\n",
    "    * [ ] Add a constant to every element.\n",
    "    * [ ] Multiply the vector by a constant.\n",
    "    * [ ] Increment the vector by another vector of the same dimension.\n",
    "    * [X] Compute the average of the elements.\n",
    "    * [ ] Compute the sign of each element."
   ]
  },
  {
   "cell_type": "markdown",
   "metadata": {},
   "source": [
    "2. (True/False) A single mapper call can emit multiple (key,value) pairs.\n",
    "    * [X] True\n",
    "    * [ ] False"
   ]
  },
  {
   "cell_type": "markdown",
   "metadata": {},
   "source": [
    "3. (True/False) More than one reducer can emit (key,value) pairs with the same key simultaneously.\n",
    "    * [ ] True\n",
    "    * [X] False"
   ]
  },
  {
   "cell_type": "markdown",
   "metadata": {},
   "source": [
    "4. (True/False) Suppose we are running k-means using MapReduce. Some mappers may be launched for a new k-means iteration even if some reducers from the previous iteration are still running.\n",
    "    * [ ] True\n",
    "    * [X] False"
   ]
  },
  {
   "cell_type": "markdown",
   "metadata": {},
   "source": [
    "5. Consider the following list of binary operations. Which can be used for the reduce step of MapReduce? Choose all that apply.\n",
    "\n",
    "    Hints: The reduce step requires a binary operator that satisfied both of the following conditions.\n",
    "\n",
    "\n",
    "* Commutative: $OP(x_1,x_2)=OP(x_2,x_1)$\n",
    "* Associative: $OP(OP(x_1,x_2),x_3)=OP(x_1,OP(x_2,x_3))$\n",
    "\n",
    "    * [X] $OP1(x_1,x_2)=max(x_1,x_2)$\n",
    "    * [X] $OP2(x_1,x_2)=x_1+x_2-2$\n",
    "    * [ ] $OP3(x_1,x_2)=3x_1+2x_2$\n",
    "    * [ ] $OP4(x_1,x_2)=x^2_1+x_2$\n",
    "    * [ ] $OP5(x_1,x_2)=(x_1+x_2)/2$"
   ]
  },
  {
   "cell_type": "code",
   "execution_count": null,
   "metadata": {},
   "outputs": [],
   "source": []
  }
 ],
 "metadata": {
  "kernelspec": {
   "display_name": "Python 3",
   "language": "python",
   "name": "python3"
  },
  "language_info": {
   "codemirror_mode": {
    "name": "ipython",
    "version": 3
   },
   "file_extension": ".py",
   "mimetype": "text/x-python",
   "name": "python",
   "nbconvert_exporter": "python",
   "pygments_lexer": "ipython3",
   "version": "3.7.4"
  }
 },
 "nbformat": 4,
 "nbformat_minor": 2
}
