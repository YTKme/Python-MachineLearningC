{
 "cells": [
  {
   "cell_type": "markdown",
   "metadata": {},
   "source": [
    "# Quiz"
   ]
  },
  {
   "cell_type": "code",
   "execution_count": 1,
   "metadata": {},
   "outputs": [],
   "source": [
    "# Remove punctuation\n",
    "def remove_punctuation(text):\n",
    "    import string\n",
    "    return text.translate(None, string.punctuation)"
   ]
  },
  {
   "cell_type": "markdown",
   "metadata": {},
   "source": [
    "1. Consider three data points with two features as follows:\n",
    "\n",
    "    Among the three points, which two are closest to each other in terms of having the **smallest Euclidean distance**?\n",
    "    \n",
    "    * B and C"
   ]
  },
  {
   "cell_type": "markdown",
   "metadata": {},
   "source": [
    "2. Consider three data points with two features as follows:\n",
    "\n",
    "    Among the three points, which two are closest to each other in terms of having the **largest cosine similarity** (or equivalently, **smallest cosine distance**)?\n",
    "    \n",
    "    * A and B"
   ]
  },
  {
   "cell_type": "markdown",
   "metadata": {},
   "source": [
    "3. Consider the following two sentences.\n",
    "\n",
    "    * Sentence 1: The quick brown fox jumps over the lazy dog.\n",
    "    * Sentence 2: A quick brown dog outpaces a quick fox.\n",
    "    \n",
    "    Compute the Euclidean distance using word counts. To compute word counts, turn all words into lower case and strip all punctuation, so that \"The\" and \"the\" are counted as the same token. That is, document 1 would be represented as\n",
    "    \n",
    "    x = [# the,# a,# quick,# brown,# fox,# jumps,# over,# lazy,# dog,# outpaces]\n",
    "    \n",
    "    where # word is the count of that word in the document.\n",
    "    \n",
    "    Round your answer to 3 decimal places.\n",
    "    \n",
    "    * 3.606"
   ]
  },
  {
   "cell_type": "code",
   "execution_count": 11,
   "metadata": {},
   "outputs": [
    {
     "name": "stdout",
     "output_type": "stream",
     "text": [
      "Euclidean Distance: 5.74456264654\n"
     ]
    }
   ],
   "source": [
    "import math\n",
    "\n",
    "sentence_1 = \"The quick brown fox jumps over the lazy dog.\"\n",
    "sentence_2 = \"A quick brown dog outpaces a quick fox.\"\n",
    "\n",
    "sentence_1_clean = remove_punctuation(sentence_1).lower()\n",
    "sentence_2_clean = remove_punctuation(sentence_2).lower()\n",
    "combine_sentence = sentence_1_clean + \" \" + sentence_2_clean\n",
    "\n",
    "d = {}\n",
    "\n",
    "for word in combine_sentence.split(\" \"):\n",
    "    d[word] = d.get(word, 0) + 1\n",
    "\n",
    "# Euclidean distance\n",
    "total = 0\n",
    "for key, value in d.items():\n",
    "    total = total + value ** 2\n",
    "    \n",
    "print \"Euclidean Distance: {0}\".format(math.sqrt(total))"
   ]
  },
  {
   "cell_type": "markdown",
   "metadata": {},
   "source": [
    "4. Consider the following two sentences.\n",
    "\n",
    "    * Sentence 1: The quick brown fox jumps over the lazy dog.\n",
    "    * Sentence 2: A quick brown dog outpaces a quick fox.\n",
    "    \n",
    "    Recall that\n",
    "    \n",
    "    cosine distance = 1 - cosine similarity = 1 - (x^T * y) / (||x|| * ||y||)\n",
    "    \n",
    "    Compute the **cosine distance** between sentence 1 and sentence 2 using word counts. To compute word counts, turn all words into lower case and strip all punctuation, so that \"The\" and \"the\" are counted as the same token. That is, document 1 would be represented as\n",
    "    \n",
    "    x = [# the,# a,# quick,# brown,# fox,# jumps,# over,# lazy,# dog,# outpaces]\n",
    "    \n",
    "    where # word is the count of that word in the document.\n",
    "    \n",
    "    Round your answer to 3 decimal places.\n",
    "    \n",
    "    * 0.565"
   ]
  },
  {
   "cell_type": "markdown",
   "metadata": {},
   "source": [
    "5. (True/False) For positive features, cosine similarity is always between 0 and 1.\n",
    "    * True"
   ]
  },
  {
   "cell_type": "markdown",
   "metadata": {},
   "source": [
    "6. Which of the following does **not** describe the word count document representation? (Note: this is different from TF-IDF document representation.)\n",
    "    * Penalizes words that appear in every document"
   ]
  },
  {
   "cell_type": "markdown",
   "metadata": {},
   "source": [
    "https://ssq.github.io/2017/08/19/Coursera%20UW%20Machine%20Learning%20Specialization%20Notebook/"
   ]
  },
  {
   "cell_type": "code",
   "execution_count": null,
   "metadata": {},
   "outputs": [],
   "source": []
  }
 ],
 "metadata": {
  "kernelspec": {
   "display_name": "Python 2",
   "language": "python",
   "name": "python2"
  },
  "language_info": {
   "codemirror_mode": {
    "name": "ipython",
    "version": 2
   },
   "file_extension": ".py",
   "mimetype": "text/x-python",
   "name": "python",
   "nbconvert_exporter": "python",
   "pygments_lexer": "ipython2",
   "version": "2.7.16"
  }
 },
 "nbformat": 4,
 "nbformat_minor": 2
}
