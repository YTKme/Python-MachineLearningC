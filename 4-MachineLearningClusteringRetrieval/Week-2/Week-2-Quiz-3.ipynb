{
 "cells": [
  {
   "cell_type": "markdown",
   "metadata": {},
   "source": [
    "# Quiz"
   ]
  },
  {
   "cell_type": "markdown",
   "metadata": {},
   "source": [
    "1. (True/False) Like KD-trees, Locality Sensitive Hashing lets us compute exact nearest neighbors while inspecting only a fraction of the data points in the training set.\n",
    "    * [ ] True\n",
    "    * [X] False"
   ]
  },
  {
   "cell_type": "markdown",
   "metadata": {},
   "source": [
    "2. (True/False) Given two data points with high cosine similarity, the probability that a randomly drawn line would separate the two points is small.\n",
    "    * [X] True\n",
    "    * [ ] False"
   ]
  },
  {
   "cell_type": "markdown",
   "metadata": {},
   "source": [
    "3. (True/False) The true nearest neighbor of the query is guaranteed to fall into the same bin as the query.\n",
    "    * [ ] True\n",
    "    * [X] False"
   ]
  },
  {
   "cell_type": "markdown",
   "metadata": {},
   "source": [
    "4. (True/False) Locality Sensitive Hashing is more efficient than KD-trees in high dimensional setting.\n",
    "    * [X] True\n",
    "    * [ ] False"
   ]
  },
  {
   "cell_type": "markdown",
   "metadata": {},
   "source": [
    "5. Suppose you trained an LSH model and performed a lookup using the bin index of the query. You notice that the list of candidates returned are not at all similar to the query item. Which of the following changes would not produce a more relevant list of candidates?\n",
    "    * [ ] Use multiple tables.\n",
    "    * [X] Increase the number of random lines/hyperplanes.\n",
    "    * [ ] Inspect more neighboring bins to the bin containing the query.\n",
    "    * [ ] Decrease the number of random lines/hyperplanes."
   ]
  },
  {
   "cell_type": "code",
   "execution_count": null,
   "metadata": {},
   "outputs": [],
   "source": []
  }
 ],
 "metadata": {
  "kernelspec": {
   "display_name": "Python 3",
   "language": "python",
   "name": "python3"
  },
  "language_info": {
   "codemirror_mode": {
    "name": "ipython",
    "version": 3
   },
   "file_extension": ".py",
   "mimetype": "text/x-python",
   "name": "python",
   "nbconvert_exporter": "python",
   "pygments_lexer": "ipython3",
   "version": "3.7.4"
  }
 },
 "nbformat": 4,
 "nbformat_minor": 2
}
