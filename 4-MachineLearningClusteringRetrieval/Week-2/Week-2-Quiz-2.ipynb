{
 "cells": [
  {
   "cell_type": "markdown",
   "metadata": {},
   "source": [
    "# Quiz 2"
   ]
  },
  {
   "cell_type": "markdown",
   "metadata": {},
   "source": [
    "1. Which of the following is **not** true about KD-trees?\n",
    "    * [ ] It divides the feature space into nested axis-aligned boxes.\n",
    "    * [X] It can be used only for approximate nearest neighbor search but not for exact nearest neighbor search.\n",
    "    * [ ] It prunes parts of the feature space away from consideration by inspecting smallest possible distances that can be achieved.\n",
    "    * [ ] The query time scales sublinearly with the number of data points and exponentially with the number of dimensions.\n",
    "    * [ ] It works best in low to medium dimension settings."
   ]
  },
  {
   "cell_type": "markdown",
   "metadata": {},
   "source": [
    "2. Questions 2, 3, 4, and 5 involves training a KD-tree on the following dataset:\n",
    "\n",
    "|    &nbsp;    | X1    | X2    |\n",
    "|--------------|-------|-------|\n",
    "| Data point 1 | -1.58 | -2.01 |\n",
    "| Data point 2 | 0.91  | 3.98  |\n",
    "| Data point 3 | -0.73 | 4.00  |\n",
    "| Data point 4 | -4.22 | 1.16  |\n",
    "| Data point 5 | 4.19  | -2.02 |\n",
    "| Data point 6 | -0.33 | 2.15  |\n",
    "\n",
    "Train a KD-tree by hand as follows:\n",
    "* First split using X1 and then using X2. Alternate between X1 and X2 in order.\n",
    "* Use “middle-of-the-range” heuristic for each split. Take the maximum and minimum of the coordinates of the member points.\n",
    "* Keep subdividing until every leaf node contains two or fewer data points.\n",
    "\n",
    "What is the split value used for the first split? Enter the exact value, as you are expected to obtain a finite number of decimals. Use American-style decimals (e.g. 0.026).\n",
    "\n",
    "**Answer:** -0.015"
   ]
  },
  {
   "cell_type": "markdown",
   "metadata": {},
   "source": [
    "3. Refer to Question 2 for context.\n",
    "\n",
    "What is the split value used for the second split? Enter the exact value, as you are expected to obtain a finite number of decimals. Use American-style decimals (e.g. 0.026).\n",
    "\n",
    "**Answer:** 0.995"
   ]
  },
  {
   "cell_type": "markdown",
   "metadata": {},
   "source": [
    "4. Refer to Question 2 for context.\n",
    "\n",
    "    Given a query point (-3, 1.5), which of the data points belong to the same leaf node as the query point? Choose all that apply.\n",
    "\n",
    "    * [ ] Data point 1\n",
    "    * [ ] Data point 2\n",
    "    * [ ] Data point 3\n",
    "    * [X] Data point 4\n",
    "    * [ ] Data point 5\n",
    "    * [ ] Data point 6"
   ]
  },
  {
   "cell_type": "markdown",
   "metadata": {},
   "source": [
    "5. Refer to Question 2 for context.\n",
    "\n",
    "    Perform backtracking with the query point (-3, 1.5) to perform exact nearest neighbor search. Which of the data points would be pruned from the search? Choose all that apply.\n",
    "    \n",
    "    Hint: Assume that each node in the KD-tree remembers the **tight bound** on the coordinates of its member points, as follows:\n",
    "    \n",
    "    * [X] Data point 1\n",
    "    * [X] Data point 2\n",
    "    * [X] Data point 3\n",
    "    * [ ] Data point 4\n",
    "    * [X] Data point 5\n",
    "    * [X] Data point 6"
   ]
  },
  {
   "cell_type": "code",
   "execution_count": null,
   "metadata": {},
   "outputs": [],
   "source": []
  }
 ],
 "metadata": {
  "kernelspec": {
   "display_name": "Python 3",
   "language": "python",
   "name": "python3"
  },
  "language_info": {
   "codemirror_mode": {
    "name": "ipython",
    "version": 3
   },
   "file_extension": ".py",
   "mimetype": "text/x-python",
   "name": "python",
   "nbconvert_exporter": "python",
   "pygments_lexer": "ipython3",
   "version": "3.7.4"
  }
 },
 "nbformat": 4,
 "nbformat_minor": 2
}
