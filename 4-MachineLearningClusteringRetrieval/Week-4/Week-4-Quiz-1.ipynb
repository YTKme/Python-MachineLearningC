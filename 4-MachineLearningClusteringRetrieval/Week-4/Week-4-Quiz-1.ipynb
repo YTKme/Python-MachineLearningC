{
 "cells": [
  {
   "cell_type": "markdown",
   "metadata": {},
   "source": [
    "# Quiz"
   ]
  },
  {
   "cell_type": "markdown",
   "metadata": {},
   "source": [
    "1. (True/False) While the EM algorithm maintains uncertainty about the cluster assignment for each observation via soft assignments, the model assumes that every observation comes from only one cluster.\n",
    "    * [X] True\n",
    "    * [ ] False"
   ]
  },
  {
   "cell_type": "markdown",
   "metadata": {},
   "source": [
    "2. (True/False) In high dimensions, the EM algorithm runs the risk of setting cluster variances to zero.\n",
    "    * [X] True\n",
    "    * [ ] False"
   ]
  },
  {
   "cell_type": "markdown",
   "metadata": {},
   "source": [
    "3. In the EM algorithm, what do the E step and M step represent, respectively?\n",
    "    * [X] **E**stimate cluster responsibilities, **M**aximize likelihood over parameters\n",
    "    * [ ] **E**stimate likelihood over parameters, **M**aximize cluster responsibilities\n",
    "    * [ ] **E**stimate number of parameters, **M**aximize likelihood over parameters\n",
    "    * [ ] **E**stimate likelihood over parameters, **M**aximize number of parameters"
   ]
  },
  {
   "cell_type": "markdown",
   "metadata": {},
   "source": [
    "4. Suppose we have data that come from a mixture of 6 Gaussians (i.e., that is the true data structure). Which model would we expect to have the highest log-likelihood after fitting via the EM algorithm?\n",
    "    * [ ] A mixture of Gaussians with 2 component clusters\n",
    "    * [ ] A mixture of Gaussians with 4 component clusters\n",
    "    * [ ] A mixture of Gaussians with 6 component clusters\n",
    "    * [ ] A mixture of Gaussians with 7 component clusters\n",
    "    * [X] A mixture of Gaussians with 10 component clusters"
   ]
  },
  {
   "cell_type": "markdown",
   "metadata": {},
   "source": [
    "5. Which of the following correctlydescribes the differences between EM for mixtures of Gaussians and k-means? Choose all that apply.\n",
    "    * [ ] k-means often gets stuck in a local minimum, while EM tends not to\n",
    "    * [X] EM is better at capturing clusters of different sizes and orientations\n",
    "    * [X] EM is better at capturing clusters with overlaps\n",
    "    * [ ] EM is less prone to overfitting than k-means\n",
    "    * [X] k-means is equivalent to running EM with infinitesimally small diagonal covariances."
   ]
  },
  {
   "cell_type": "markdown",
   "metadata": {},
   "source": [
    "6. Suppose we are running the EM algorithm. After an E-step, we obtain the following responsibility matrix:\n",
    "\n",
    "| Cluster responsibilities | Cluster A | Cluster B | Cluster C |\n",
    "|--------------------------|-----------|-----------|-----------|\n",
    "| Data point 1             | 0.20      | 0.40      | 0.40      |\n",
    "| Data point 2             | 0.50      | 0.10      | 0.40      |\n",
    "| Data point 3             | 0.70      | 0.20      | 0.10      |\n",
    "\n",
    "Which is the least probable cluster for data point 1?    \n",
    "    * [X] Cluster A\n",
    "    * [ ] Cluster B\n",
    "    * [ ] Cluster C"
   ]
  },
  {
   "cell_type": "markdown",
   "metadata": {},
   "source": [
    "7. Suppose we are running the EM algorithm. After an E-step, we obtain the following responsibility matrix:\n",
    "\n",
    "| Cluster responsibilities | Cluster A | Cluster B | Cluster C |\n",
    "|--------------------------|-----------|-----------|-----------|\n",
    "| Data point 1             | 0.20      | 0.40      | 0.40      |\n",
    "| Data point 2             | 0.50      | 0.10      | 0.40      |\n",
    "| Data point 3             | 0.70      | 0.20      | 0.10      |\n",
    "\n",
    "Suppose also that the data points are as follows:\n",
    "\n",
    "| Dataset      | X | Y | Z  |\n",
    "|--------------|---|---|----|\n",
    "| Data point 1 | 3 | 1 | 2  |\n",
    "| Data point 2 | 0 | 0 | 3  |\n",
    "| Data point 3 | 1 | 3 |  7 |\n",
    "\n",
    "Let us compute the new mean for Cluster A. What is the Z coordinate of the new mean? Round your answer to 3 decimal places.\n",
    "\n",
    "$(2*0.2 +3*0.5+7*0.7)/(.2+.5+.7)=4.857$"
   ]
  },
  {
   "cell_type": "markdown",
   "metadata": {},
   "source": [
    "8. Which of the following contour plots describes a Gaussian distribution with diagonal covariance? Choose all that apply.\n",
    "    * [ ] (1)\n",
    "    * [ ] (2)\n",
    "    * [X] (3)\n",
    "    * [X] (4)\n",
    "    * [ ] (5)"
   ]
  },
  {
   "cell_type": "markdown",
   "metadata": {},
   "source": [
    "9. Suppose we initialize EM for mixtures of Gaussians (using full covariance matrices) with the following clusters:\n",
    "\n",
    "    Which of the following best describes the updated clusters after the first iteration of EM? \n",
    "    \n",
    "    * [ ] 1\n",
    "    * [ ] 2\n",
    "    * [ ] 3\n",
    "    * [X] 4\n",
    "    * [ ] 5"
   ]
  },
  {
   "cell_type": "code",
   "execution_count": null,
   "metadata": {},
   "outputs": [],
   "source": []
  }
 ],
 "metadata": {
  "kernelspec": {
   "display_name": "Python 3",
   "language": "python",
   "name": "python3"
  },
  "language_info": {
   "codemirror_mode": {
    "name": "ipython",
    "version": 3
   },
   "file_extension": ".py",
   "mimetype": "text/x-python",
   "name": "python",
   "nbconvert_exporter": "python",
   "pygments_lexer": "ipython3",
   "version": "3.7.4"
  }
 },
 "nbformat": 4,
 "nbformat_minor": 2
}
