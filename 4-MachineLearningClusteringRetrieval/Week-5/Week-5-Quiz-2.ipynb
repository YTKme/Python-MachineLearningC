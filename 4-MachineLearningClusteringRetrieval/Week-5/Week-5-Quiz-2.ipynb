{
 "cells": [
  {
   "cell_type": "markdown",
   "metadata": {},
   "source": [
    "# Quiz"
   ]
  },
  {
   "cell_type": "markdown",
   "metadata": {},
   "source": [
    "1. (True/False) Each iteration of Gibbs sampling for Bayesian inference in topic models is guaranteed to yield a higher joint model probability than the previous sample.\n",
    "    * [ ] True\n",
    "    * [X] False"
   ]
  },
  {
   "cell_type": "markdown",
   "metadata": {},
   "source": [
    "2. (Check all that are true) Bayesian methods such as Gibbs sampling can be advantageous because they\n",
    "    * [X] Account for uncertainty over parameters when making predictions\n",
    "    * [ ] Are faster than methods such as EM\n",
    "    * [ ] Maximize the log probability of the data under the model\n",
    "    * [X] Regularize parameter estimates to avoid extreme values"
   ]
  },
  {
   "cell_type": "markdown",
   "metadata": {},
   "source": [
    "3. For the standard LDA model discussed in the lectures, how many parameters are required to represent the distributions defining the topics?\n",
    "    * [ ] [# unique words]\n",
    "    * [X] [# unique words] * [# topics]\n",
    "    * [ ] [# documents] * [# unique words]\n",
    "    * [ ] [# documents] * [# topics]"
   ]
  },
  {
   "cell_type": "markdown",
   "metadata": {},
   "source": [
    "4. Suppose we have a collection of documents, and we are focusing our analysis to the use of the following 10 words. We ran several iterations of collapsed Gibbs sampling for an LDA model with K=2 topics and alpha=10.0 and gamma=0.1 (with notation as in the collapsed Gibbs sampling lecture). The corpus-wide assignments at our most recent collapsed Gibbs iteration are summarized in the following table of counts:\n",
    "\n",
    "| Word     | Count in topic 1 | Count in topic 2 |\n",
    "|----------|------------------|------------------|\n",
    "| baseball | 52               | 0                |\n",
    "| homerun  | 15               | 0                |\n",
    "| ticket   | 9                | 2                |\n",
    "| price    | 9                | 25               |\n",
    "| manager  | 20               | 37               |\n",
    "| owner    | 17               | 32               |\n",
    "| company  | 1                | 23               |\n",
    "| stock    | 0                | 75               |\n",
    "| bankrupt | 0                | 19               |\n",
    "| taxes    | 0                | 29               |\n",
    "\n",
    "We also have a single document $i$ with the following topic assignments for each word:\n",
    "\n",
    "| topic | 1        | 2       | 1      | 2     | 1     |\n",
    "|-------|----------|---------|--------|-------|-------|\n",
    "| word  | baseball | manager | ticket | price | owner |\n",
    "\n",
    "Suppose we want to re-compute the topic assignment for the word “manager”. To sample a new topic, we need to compute several terms to determine how much the document likes each topic, and how much each topic likes the word “manager”. The following questions will all relate to this situation.\n",
    "\n",
    "First, using the notation in the slides, what is the value of $m_{manager,1}$ (i.e., the number of times the word \"manager\" has been assigned to topic 1)?\n",
    "\n",
    "Answer: 20"
   ]
  },
  {
   "cell_type": "markdown",
   "metadata": {},
   "source": [
    "5. Consider the situation described in Question 4.\n",
    "\n",
    "What is the value of $\\sum_{w} m_{w,1}$, where the sum is taken over all words in the vocabulary?\n",
    "\n",
    "Answer: 123"
   ]
  },
  {
   "cell_type": "markdown",
   "metadata": {},
   "source": [
    "6. Consider the situation described in Question 4.\n",
    "\n",
    "Following the notation in the slides, what is the value of $n_{i,1}$​ for this document $i$ (i.e., the number of words in document $i$ assigned to topic 1)?\n",
    "\n",
    "Answer: 3"
   ]
  },
  {
   "cell_type": "markdown",
   "metadata": {},
   "source": [
    "7. In the situation described in Question 4, “manager” was assigned to topic 2. When we remove that assignment prior to sampling, we need to decrement the associated counts.\n",
    "\n",
    "After decrementing, what is the value of $n_{i,2}$?\n",
    "\n",
    "Answer: 1"
   ]
  },
  {
   "cell_type": "markdown",
   "metadata": {},
   "source": [
    "8. In the situation described in Question 4, “manager” was assigned to topic 2. When we remove that assignment prior to sampling, we need to decrement the associated counts.\n",
    "\n",
    "After decrementing, what is the value of $m_{manager,2}$?\n",
    "\n",
    "Answer: 36"
   ]
  },
  {
   "cell_type": "markdown",
   "metadata": {},
   "source": [
    "9. In the situation described in Question 4, “manager” was assigned to topic 2. When we remove that assignment prior to sampling, we need to decrement the associated counts.\n",
    "\n",
    "After decrementing, what is the value of $\\sum_{w} m_{w,2}$?\n",
    "\n",
    "Answer: 241"
   ]
  },
  {
   "cell_type": "markdown",
   "metadata": {},
   "source": [
    "10. Consider the situation described in Question 4.\n",
    "\n",
    "As discussed in the slides, the unnormalized probability of assigning to topic 1 is\n",
    "\n",
    "$$p_1 = \\frac{n_{i,1} + \\alpha}{N_{i} - 1 + K\\alpha} \\frac{m_{manager,1} + \\gamma}{\\sum_{w} m_{w,1} + V\\gamma}$$\n",
    "\n",
    "where V is the total size of the vocabulary.\n",
    "\n",
    "Similarly the unnormalized probability of assigning to topic 2 is\n",
    "\n",
    "$$p_2 = \\frac{n_{i,2} + \\alpha}{N_{i} - 1 + K\\alpha} \\frac{m_{manager,2} + \\gamma}{\\sum_{w} m_{w,2} + V\\gamma}$$\n",
    "\n",
    "Using the above equations and the results computed in previous questions, compute the probability of assigning the word “manager” to topic 1.\n",
    "\n",
    "(Reminder: Normalize across the two topic options so that the probabilities of all possible assignments---topic 1 and topic 2---sum to 1.)\n",
    "\n",
    "Round your answer to 3 decimal places.\n",
    "\n",
    "\n",
    "$p1 = (3+10)/(4+210)(20+0.1)/(123+100.1)$\n",
    "\n",
    "$p2 = (1+10)/(4+210)(36+0.1)/(241+100.1)$\n",
    "\n",
    "Answer: 0.562"
   ]
  },
  {
   "cell_type": "code",
   "execution_count": null,
   "metadata": {},
   "outputs": [],
   "source": []
  }
 ],
 "metadata": {
  "kernelspec": {
   "display_name": "Python 3",
   "language": "python",
   "name": "python3"
  },
  "language_info": {
   "codemirror_mode": {
    "name": "ipython",
    "version": 3
   },
   "file_extension": ".py",
   "mimetype": "text/x-python",
   "name": "python",
   "nbconvert_exporter": "python",
   "pygments_lexer": "ipython3",
   "version": "3.7.4"
  }
 },
 "nbformat": 4,
 "nbformat_minor": 2
}
