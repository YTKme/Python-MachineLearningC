{
 "cells": [
  {
   "cell_type": "markdown",
   "metadata": {},
   "source": [
    "# Quiz"
   ]
  },
  {
   "cell_type": "markdown",
   "metadata": {},
   "source": [
    "1. We run ridge regression to learn the weights of a simple model that has a single feature (sqft_living), once with l2_penalty=0.0 and once with l2_penalty=1e11.<br />**What is the value of the coefficient for sqft_living that you learned with no regularization, rounded to 1 decimal place? Use American-style decimals (e.g. 30.5)**\n",
    "    * 263.0\n",
    "    \n",
    "2. This question refers to the same model as the previous question.<br />**What is the value of the coefficient for sqft_living that you learned with high regularization (l2_penalty=1e11)? Use American-style decimals (e.g. 30.5) and round your answer to 1 decimal place.**\n",
    "    * 124.6\n",
    "\n",
    "3. This question refers to the same model as the previous question.<br />**Comparing the lines you fit with the with no regularization versus high regularization (l2_penalty=1e11), which one is steeper?**\n",
    "    * Line fit with no regularization (l2_penalty=0)\n",
    "    \n",
    "4. This question refers to the same model as the previous question.<br />**Using the weights learned with no regularization (l2_penalty=0), make predictions for the TEST data. In which of the following ranges does the TEST error (RSS) fall?**\n",
    "    * Between 2e14 and 5e14\n",
    "    \n",
    "5. We run ridge regression to learn the weights of a model that has two features (sqft_living, sqft_living15), once with l2_penalty=0.0 and once with l2_penalty=1e11.<br />**What is the value of the coefficient for sqft_living that you learned with no regularization, rounded to 1 decimal place? Use American-style decimals (e.g. 30.5).**\n",
    "    * 243.1\n",
    "\n",
    "6. This question refers to the same model as the previous question.<br />**What is the value of the coefficient for sqft_living that you learned with high regularization (l2_penalty=1e11)? Use American-style decimals (e.g. 30.5) and round your answer to 1 decimal place.**\n",
    "    * 91.5\n",
    "\n",
    "7. This question refers to the same model as the previous question.<br />**Using the weights learned with high regularization (l2_penalty=1e11), make predictions for the TEST data. In which of the following ranges does the TEST error (RSS) fall?**\n",
    "    * Between 2e14 and 4e14 X\n",
    "    \n",
    "8. This question refers to the same model as the previous question.<br />**Predict the price of the first house in the test set using the weights learned with no regularization. Do the same using the weights learned with high regularization. Which weights make better prediction for the first house in the test set?**\n",
    "    * The weights learned with high regularization (l2_penalty=1e11)"
   ]
  },
  {
   "cell_type": "code",
   "execution_count": null,
   "metadata": {},
   "outputs": [],
   "source": []
  }
 ],
 "metadata": {
  "kernelspec": {
   "display_name": "Python 2",
   "language": "python",
   "name": "python2"
  },
  "language_info": {
   "codemirror_mode": {
    "name": "ipython",
    "version": 2
   },
   "file_extension": ".py",
   "mimetype": "text/x-python",
   "name": "python",
   "nbconvert_exporter": "python",
   "pygments_lexer": "ipython2",
   "version": "2.7.16"
  }
 },
 "nbformat": 4,
 "nbformat_minor": 2
}
