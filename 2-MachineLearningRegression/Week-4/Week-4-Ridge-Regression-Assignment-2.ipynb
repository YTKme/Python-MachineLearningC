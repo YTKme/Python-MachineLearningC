{
 "cells": [
  {
   "cell_type": "markdown",
   "metadata": {},
   "source": [
    "# Regression Week 4: Ridge Regression (Gradient Descent)\n",
    "\n",
    "In this notebook, you will implement ridge regression via gradient descent. You will:\n",
    "* Convert an SFrame into a NumPy array\n",
    "* Write a NumPy function to compute the derivative of the regression weights with respect to a single feature\n",
    "* Write gradient descent function to compute the regression weights given an initial weight vector, step size, tolerance, and L2 penalty"
   ]
  },
  {
   "cell_type": "code",
   "execution_count": 1,
   "metadata": {},
   "outputs": [],
   "source": [
    "# GraphLab\n",
    "import graphlab"
   ]
  },
  {
   "cell_type": "markdown",
   "metadata": {},
   "source": [
    "## Load House Sale Data\n",
    "\n",
    "Dataset is from house sales in King County, the region where the city of Seattle, WA is located."
   ]
  },
  {
   "cell_type": "code",
   "execution_count": 3,
   "metadata": {},
   "outputs": [],
   "source": [
    "sales = graphlab.SFrame(\"kc_house_data.gl/\")"
   ]
  },
  {
   "cell_type": "markdown",
   "metadata": {},
   "source": [
    "If we want to do any \"feature engineering\" like creating new features or adjusting existing ones we should do this directly using the SFrames as seen in the first notebook of Week 2. For this notebook, however, we will work with the existing features."
   ]
  },
  {
   "cell_type": "markdown",
   "metadata": {},
   "source": [
    "## Import Useful Function\n",
    "\n",
    "As in Week 2, we convert the SFrame into a 2D Numpy array. Copy and paste `get_numpy_data()` from the second notebook of Week 2."
   ]
  },
  {
   "cell_type": "code",
   "execution_count": 4,
   "metadata": {},
   "outputs": [],
   "source": [
    "import numpy as np # note this allows us to refer to numpy as np instead "
   ]
  },
  {
   "cell_type": "code",
   "execution_count": 5,
   "metadata": {},
   "outputs": [],
   "source": [
    "def get_numpy_data(data_sframe, features, output):\n",
    "    data_sframe[\"constant\"] = 1 # this is how you add a constant column to an SFrame\n",
    "    # add the column 'constant' to the front of the features list so that we can extract it along with the others:\n",
    "    features = [\"constant\"] + features # this is how you combine two lists\n",
    "    # select the columns of data_SFrame given by the features list into the SFrame features_sframe (now including constant):\n",
    "    features_sframe = data_sframe[features]\n",
    "\n",
    "    # the following line will convert the features_SFrame into a numpy matrix:\n",
    "    feature_matrix = features_sframe.to_numpy()\n",
    "    # assign the column of data_sframe associated with the output to the SArray output_sarray\n",
    "    output_sarray = data_sframe[output]\n",
    "\n",
    "    # the following will convert the SArray into a numpy array by first converting it to a list\n",
    "    output_array = output_sarray.to_numpy()\n",
    "    return(feature_matrix, output_array)"
   ]
  },
  {
   "cell_type": "markdown",
   "metadata": {},
   "source": [
    "Also, copy and paste the `predict_output()` function to compute the predictions for an entire matrix of features given the matrix and the weights."
   ]
  },
  {
   "cell_type": "code",
   "execution_count": 6,
   "metadata": {},
   "outputs": [],
   "source": [
    "def predict_output(feature_matrix, weights):\n",
    "    # assume feature_matrix is a numpy matrix containing the features as columns and weights is a corresponding numpy array\n",
    "    # create the predictions vector by using np.dot()\n",
    "    predictions = np.dot(feature_matrix, weights)\n",
    "\n",
    "    return(predictions)"
   ]
  },
  {
   "cell_type": "markdown",
   "metadata": {},
   "source": [
    "## Compute Derivative"
   ]
  },
  {
   "cell_type": "markdown",
   "metadata": {},
   "source": [
    "We are now going to move to computing the derivative of the regression cost function. Recall that the cost function is the sum over the data points of the squared difference between an observed output and a predicted output, plus the L2 penalty term.\n",
    "```\n",
    "Cost(w)\n",
    "= SUM[ (prediction - output)^2 ]\n",
    "+ l2_penalty * (w[0]^2 + w[1]^2 + ... + w[k]^2).\n",
    "```\n",
    "\n",
    "Since the derivative of a sum is the sum of the derivatives, we can take the derivative of the first part (the RSS) as we did in the notebook for the unregularized case in Week 2 and add the derivative of the regularization part. As we saw, the derivative of the RSS with respect to `w[i]` can be written as: \n",
    "```\n",
    "2 * SUM[ error * [feature_i] ].\n",
    "```\n",
    "The derivative of the regularization term with respect to `w[i]` is:\n",
    "```\n",
    "2 * l2_penalty * w[i].\n",
    "```\n",
    "Summing both, we get\n",
    "```\n",
    "2 * SUM[ error * [feature_i] ] + 2 * l2_penalty * w[i].\n",
    "```\n",
    "That is, the derivative for the weight for feature i is the sum (over data points) of 2 times the product of the error and the feature itself, plus `2 * l2_penalty * w[i]`. \n",
    "\n",
    "**We will not regularize the constant.**  Thus, in the case of the constant, the derivative is just twice the sum of the errors (without the `2 * l2_penalty * w[0]` term).\n",
    "\n",
    "Recall that twice the sum of the product of two vectors is just twice the dot product of the two vectors. Therefore the derivative for the weight for `feature_i` is just two times the dot product between the values of `feature_i` and the current errors, plus `2 * l2_penalty * w[i]`.\n",
    "\n",
    "With this in mind complete the following derivative function which computes the derivative of the weight given the value of the feature (over all data points) and the errors (over all data points). To decide when to we are dealing with the constant (so we don't regularize it) we added the extra parameter to the call `feature_is_constant` which you should set to `True` when computing the derivative of the constant and `False` otherwise."
   ]
  },
  {
   "cell_type": "code",
   "execution_count": 7,
   "metadata": {},
   "outputs": [],
   "source": [
    "def feature_derivative_ridge(errors, feature, weight, l2_penalty, feature_is_constant):\n",
    "    # If feature_is_constant is True, derivative is twice the dot product of errors and feature\n",
    "    if feature_is_constant is True:\n",
    "        derivative = 2 * np.dot(errors, feature)\n",
    "    \n",
    "    # Otherwise, derivative is twice the dot product plus 2*l2_penalty*weight\n",
    "    else:\n",
    "        derivative = 2 * np.dot(errors, feature) + 2 * l2_penalty * weight\n",
    "    \n",
    "    return derivative"
   ]
  },
  {
   "cell_type": "markdown",
   "metadata": {},
   "source": [
    "To test your feature derivartive run the following:"
   ]
  },
  {
   "cell_type": "code",
   "execution_count": 8,
   "metadata": {},
   "outputs": [
    {
     "name": "stdout",
     "output_type": "stream",
     "text": [
      "-56554166782350.0\n",
      "-56554166782350.0\n",
      "\n",
      "-22446749336.0\n",
      "-22446749336.0\n"
     ]
    }
   ],
   "source": [
    "(example_features, example_output) = get_numpy_data(sales, [\"sqft_living\"], \"price\") \n",
    "my_weights = np.array([1., 10.])\n",
    "test_predictions = predict_output(example_features, my_weights) \n",
    "errors = test_predictions - example_output # prediction errors\n",
    "\n",
    "# next two lines should print the same values\n",
    "print feature_derivative_ridge(errors, example_features[:, 1], my_weights[1], 1, False)\n",
    "print np.sum(errors*example_features[:, 1]) * 2 + 20.\n",
    "print ''\n",
    "\n",
    "# next two lines should print the same values\n",
    "print feature_derivative_ridge(errors, example_features[:, 0], my_weights[0], 1, True)\n",
    "print np.sum(errors) * 2."
   ]
  },
  {
   "cell_type": "markdown",
   "metadata": {},
   "source": [
    "## Gradient Decent\n",
    "\n",
    "Now we will write a function that performs a gradient descent. The basic premise is simple. Given a starting point we update the current weights by moving in the negative gradient direction. Recall that the gradient is the direction of *increase* and therefore the negative gradient is the direction of *decrease* and we're trying to *minimize* a cost function. \n",
    "\n",
    "The amount by which we move in the negative gradient *direction* is called the 'step size'. We stop when we are 'sufficiently close' to the optimum. Unlike in Week 2, this time we will set a **maximum number of iterations** and take gradient steps until we reach this maximum number. If no maximum number is supplied, the maximum should be set 100 by default. (Use default parameter values in Python.)\n",
    "\n",
    "With this in mind, complete the following gradient descent function below using your derivative function above. For each step in the gradient descent, we update the weight for each feature before computing our stopping criteria."
   ]
  },
  {
   "cell_type": "code",
   "execution_count": 9,
   "metadata": {},
   "outputs": [],
   "source": [
    "def ridge_regression_gradient_descent(feature_matrix, output, initial_weights, step_size, l2_penalty, max_iterations = 100):\n",
    "    print \"Starting gradient descent with l2_penalty = \" + str(l2_penalty)\n",
    "    \n",
    "    weights = np.array(initial_weights) # make sure it's a numpy array\n",
    "    iteration = 0 # iteration counter\n",
    "    print_frequency = 1  # for adjusting frequency of debugging output\n",
    "    \n",
    "    #while not reached maximum number of iterations:\n",
    "    while iteration <= max_iterations:\n",
    "        iteration += 1  # increment iteration counter\n",
    "        ### === code section for adjusting frequency of debugging output. ===\n",
    "        if iteration == 10:\n",
    "            print_frequency = 10\n",
    "        if iteration == 100:\n",
    "            print_frequency = 100\n",
    "        if iteration % print_frequency == 0:\n",
    "            print(\"Iteration = \" + str(iteration))\n",
    "        ### === end code section ===\n",
    "        \n",
    "        # compute the predictions based on feature_matrix and weights using your predict_output() function\n",
    "        predictions = predict_output(feature_matrix, weights)\n",
    "\n",
    "        # compute the errors as predictions - output\n",
    "        errors = predictions - output\n",
    "\n",
    "        # from time to time, print the value of the cost function\n",
    "        if iteration % print_frequency == 0:\n",
    "            print \"Cost function = \", str(np.dot(errors, errors) + l2_penalty * (np.dot(weights, weights) - weights[0] ** 2))\n",
    "        \n",
    "        for i in xrange(len(weights)): # loop over each weight\n",
    "            # Recall that feature_matrix[:,i] is the feature column associated with weights[i]\n",
    "            # compute the derivative for weight[i].\n",
    "            #(Remember: when i = 0, you are computing the derivative of the constant!)\n",
    "            if i == 0:\n",
    "                derivative = feature_derivative_ridge(errors, feature_matrix[:, i], weights[i], l2_penalty, True)\n",
    "            else:\n",
    "                derivative = feature_derivative_ridge(errors, feature_matrix[:, i], weights[i], l2_penalty, False)\n",
    "\n",
    "            # subtract the step size times the derivative from the current weight\n",
    "            weights[i] = weights[i] - (step_size * derivative)\n",
    "            \n",
    "    print \"Done with gradient descent at iteration \", iteration\n",
    "    print \"Learned weights = \", str(weights)\n",
    "    return weights"
   ]
  },
  {
   "cell_type": "markdown",
   "metadata": {},
   "source": [
    "## Visualize Effect L2 Penalty\n",
    "\n",
    "The L2 penalty gets its name because it causes weights to have small L2 norms than otherwise. Let's see how large weights get penalized. Let us consider a simple model with 1 feature:"
   ]
  },
  {
   "cell_type": "code",
   "execution_count": 10,
   "metadata": {},
   "outputs": [],
   "source": [
    "simple_features = [\"sqft_living\"]\n",
    "my_output = \"price\""
   ]
  },
  {
   "cell_type": "markdown",
   "metadata": {},
   "source": [
    "Let us split the dataset into training set and test set. Make sure to use `seed = 0`:"
   ]
  },
  {
   "cell_type": "code",
   "execution_count": 12,
   "metadata": {},
   "outputs": [],
   "source": [
    "train_data, test_data = sales.random_split(.8, seed = 0)"
   ]
  },
  {
   "cell_type": "markdown",
   "metadata": {},
   "source": [
    "In this part, we will only use `sqft_living` to predict `price`. Use the `get_numpy_data` function to get a NumPy versions of your data with only this feature, for both the `train_data` and the `test_data`."
   ]
  },
  {
   "cell_type": "code",
   "execution_count": 57,
   "metadata": {},
   "outputs": [],
   "source": [
    "(simple_feature_matrix, output) = get_numpy_data(train_data, simple_features, my_output)\n",
    "(simple_test_feature_matrix, test_output) = get_numpy_data(test_data, simple_features, my_output)"
   ]
  },
  {
   "cell_type": "markdown",
   "metadata": {},
   "source": [
    "Let's set the parameters for our optimization:"
   ]
  },
  {
   "cell_type": "code",
   "execution_count": 58,
   "metadata": {},
   "outputs": [],
   "source": [
    "initial_weights = np.array([0., 0.])\n",
    "step_size = 1e-12\n",
    "max_iterations = 1000"
   ]
  },
  {
   "cell_type": "markdown",
   "metadata": {},
   "source": [
    "First, let's consider no regularization. Set the `l2_penalty` to `0.0` and run your ridge regression algorithm to learn the weights of your model. Call your weights:\n",
    "\n",
    "`simple_weights_0_penalty`\n",
    "\n",
    "we'll use them later."
   ]
  },
  {
   "cell_type": "code",
   "execution_count": 59,
   "metadata": {},
   "outputs": [
    {
     "name": "stdout",
     "output_type": "stream",
     "text": [
      "Starting gradient descent with l2_penalty = 0.0\n",
      "Iteration = 1\n",
      "Cost function =  7433051851026171.0\n",
      "Iteration = 2\n",
      "Cost function =  5394267213135526.0\n",
      "Iteration = 3\n",
      "Cost function =  4023237736501159.0\n",
      "Iteration = 4\n",
      "Cost function =  3101256183922414.5\n",
      "Iteration = 5\n",
      "Cost function =  2481247644505113.5\n",
      "Iteration = 6\n",
      "Cost function =  2064308077891941.5\n",
      "Iteration = 7\n",
      "Cost function =  1783927097372279.5\n",
      "Iteration = 8\n",
      "Cost function =  1595378203154871.8\n",
      "Iteration = 9\n",
      "Cost function =  1468583991054997.2\n",
      "Iteration = 10\n",
      "Cost function =  1383318191484981.8\n",
      "Iteration = 20\n",
      "Cost function =  1211562140496239.0\n",
      "Iteration = 30\n",
      "Cost function =  1208313762678823.0\n",
      "Iteration = 40\n",
      "Cost function =  1208252326252869.8\n",
      "Iteration = 50\n",
      "Cost function =  1208251163612919.5\n",
      "Iteration = 60\n",
      "Cost function =  1208251140915263.0\n",
      "Iteration = 70\n",
      "Cost function =  1208251139777036.0\n",
      "Iteration = 80\n",
      "Cost function =  1208251139046557.0\n",
      "Iteration = 90\n",
      "Cost function =  1208251138323789.0\n",
      "Iteration = 100\n",
      "Cost function =  1208251137601168.0\n",
      "Iteration = 200\n",
      "Cost function =  1208251130374984.8\n",
      "Iteration = 300\n",
      "Cost function =  1208251123148810.2\n",
      "Iteration = 400\n",
      "Cost function =  1208251115922643.5\n",
      "Iteration = 500\n",
      "Cost function =  1208251108696485.0\n",
      "Iteration = 600\n",
      "Cost function =  1208251101470335.0\n",
      "Iteration = 700\n",
      "Cost function =  1208251094244193.5\n",
      "Iteration = 800\n",
      "Cost function =  1208251087018059.5\n",
      "Iteration = 900\n",
      "Cost function =  1208251079791934.2\n",
      "Iteration = 1000\n",
      "Cost function =  1208251072565817.5\n",
      "Done with gradient descent at iteration  1001\n",
      "Learned weights =  [-1.63382315e-01  2.63024369e+02]\n",
      "Coefficient Value: 263.0\n"
     ]
    }
   ],
   "source": [
    "l2_penalty = 0.0\n",
    "simple_weights_0_penalty = ridge_regression_gradient_descent(feature_matrix = simple_feature_matrix,\n",
    "                                                             output = output,\n",
    "                                                             initial_weights = initial_weights,\n",
    "                                                             step_size = step_size,\n",
    "                                                             l2_penalty = l2_penalty,\n",
    "                                                             max_iterations = max_iterations)\n",
    "\n",
    "print \"Coefficient Value: {0}\".format(round(simple_weights_0_penalty[1], 1))"
   ]
  },
  {
   "cell_type": "markdown",
   "metadata": {},
   "source": [
    "Next, let's consider high regularization. Set the `l2_penalty` to `1e11` and run your ridge regression algorithm to learn the weights of your model. Call your weights:\n",
    "\n",
    "`simple_weights_high_penalty`\n",
    "\n",
    "we'll use them later."
   ]
  },
  {
   "cell_type": "code",
   "execution_count": 60,
   "metadata": {},
   "outputs": [
    {
     "name": "stdout",
     "output_type": "stream",
     "text": [
      "Starting gradient descent with l2_penalty = 1e+11\n",
      "Iteration = 1\n",
      "Cost function =  7433051851026171.0\n",
      "Iteration = 2\n",
      "Cost function =  5618303898412631.0\n",
      "Iteration = 3\n",
      "Cost function =  4920613278115385.0\n",
      "Iteration = 4\n",
      "Cost function =  4652381942612294.0\n",
      "Iteration = 5\n",
      "Cost function =  4549258764014158.0\n",
      "Iteration = 6\n",
      "Cost function =  4509612390882265.0\n",
      "Iteration = 7\n",
      "Cost function =  4494370050281118.0\n",
      "Iteration = 8\n",
      "Cost function =  4488509984030220.5\n",
      "Iteration = 9\n",
      "Cost function =  4486256988531770.0\n",
      "Iteration = 10\n",
      "Cost function =  4485390752674688.0\n",
      "Iteration = 20\n",
      "Cost function =  4484848868034299.0\n",
      "Iteration = 30\n",
      "Cost function =  4484847880479027.0\n",
      "Iteration = 40\n",
      "Cost function =  4484846931081658.0\n",
      "Iteration = 50\n",
      "Cost function =  4484845981687379.5\n",
      "Iteration = 60\n",
      "Cost function =  4484845032293499.5\n",
      "Iteration = 70\n",
      "Cost function =  4484844082900019.0\n",
      "Iteration = 80\n",
      "Cost function =  4484843133506937.0\n",
      "Iteration = 90\n",
      "Cost function =  4484842184114254.5\n",
      "Iteration = 100\n",
      "Cost function =  4484841234721970.0\n",
      "Iteration = 200\n",
      "Cost function =  4484831740821062.0\n",
      "Iteration = 300\n",
      "Cost function =  4484822246960036.0\n",
      "Iteration = 400\n",
      "Cost function =  4484812753138890.0\n",
      "Iteration = 500\n",
      "Cost function =  4484803259357623.5\n",
      "Iteration = 600\n",
      "Cost function =  4484793765616238.0\n",
      "Iteration = 700\n",
      "Cost function =  4484784271914731.0\n",
      "Iteration = 800\n",
      "Cost function =  4484774778253105.0\n",
      "Iteration = 900\n",
      "Cost function =  4484765284631358.0\n",
      "Iteration = 1000\n",
      "Cost function =  4484755791049491.0\n",
      "Done with gradient descent at iteration  1001\n",
      "Learned weights =  [  9.77704732 124.57217379]\n",
      "Coefficient Value: 124.6\n"
     ]
    }
   ],
   "source": [
    "l2_penalty = 1e11\n",
    "simple_weights_high_penalty = ridge_regression_gradient_descent(feature_matrix = simple_feature_matrix,\n",
    "                                                                output = output,\n",
    "                                                                initial_weights = initial_weights,\n",
    "                                                                step_size = step_size,\n",
    "                                                                l2_penalty = l2_penalty,\n",
    "                                                                max_iterations = max_iterations)\n",
    "\n",
    "print \"Coefficient Value: {0}\".format(round(simple_weights_high_penalty[1], 1))"
   ]
  },
  {
   "cell_type": "markdown",
   "metadata": {},
   "source": [
    "This code will plot the two learned models. (The blue line is for the model with no regularization and the red line is for the one with high regularization.)"
   ]
  },
  {
   "cell_type": "code",
   "execution_count": 17,
   "metadata": {},
   "outputs": [
    {
     "data": {
      "text/plain": [
       "[<matplotlib.lines.Line2D at 0x116ed7b50>,\n",
       " <matplotlib.lines.Line2D at 0x116f46510>,\n",
       " <matplotlib.lines.Line2D at 0x116f46cd0>,\n",
       " <matplotlib.lines.Line2D at 0x116f46d50>,\n",
       " <matplotlib.lines.Line2D at 0x116f59510>,\n",
       " <matplotlib.lines.Line2D at 0x116f59590>]"
      ]
     },
     "execution_count": 17,
     "metadata": {},
     "output_type": "execute_result"
    },
    {
     "data": {
      "image/png": "[encoded data removed]",
      "text/plain": [
       "<Figure size 432x288 with 1 Axes>"
      ]
     },
     "metadata": {
      "needs_background": "light"
     },
     "output_type": "display_data"
    }
   ],
   "source": [
    "import matplotlib.pyplot as plt\n",
    "%matplotlib inline\n",
    "plt.plot(simple_feature_matrix,output, \"k.\",\n",
    "         simple_feature_matrix,predict_output(simple_feature_matrix, simple_weights_0_penalty), \"b-\",\n",
    "         simple_feature_matrix,predict_output(simple_feature_matrix, simple_weights_high_penalty), \"r-\")"
   ]
  },
  {
   "cell_type": "markdown",
   "metadata": {},
   "source": [
    "Compute the RSS on the TEST data for the following three sets of weights:\n",
    "\n",
    "1. The initial weights (all zeros)\n",
    "2. The weights learned with no regularization\n",
    "3. The weights learned with high regularization\n",
    "\n",
    "Which weights perform best?"
   ]
  },
  {
   "cell_type": "code",
   "execution_count": 22,
   "metadata": {},
   "outputs": [
    {
     "name": "stdout",
     "output_type": "stream",
     "text": [
      "RSS For Initial Weight: 1.78427328252e+15\n"
     ]
    }
   ],
   "source": [
    "# Initial weight\n",
    "prediction_initial_weight = predict_output(simple_test_feature_matrix, initial_weights)\n",
    "residual_initial_weight = prediction_initial_weight - test_output\n",
    "residual_square_initial_weight = residual_initial_weight ** 2\n",
    "rss_initial_weight = residual_square_initial_weight.sum()\n",
    "print \"RSS For Initial Weight: {0}\".format(rss_initial_weight)"
   ]
  },
  {
   "cell_type": "code",
   "execution_count": 25,
   "metadata": {},
   "outputs": [
    {
     "name": "stdout",
     "output_type": "stream",
     "text": [
      "RSS For No Regularization: 2.75723634587e+14\n"
     ]
    }
   ],
   "source": [
    "# No regularization\n",
    "prediction_no_regularization = predict_output(simple_test_feature_matrix, simple_weights_0_penalty)\n",
    "residual_no_regularization = prediction_no_regularization - test_output\n",
    "residual_square_no_regularization = residual_no_regularization ** 2\n",
    "rss_no_regularization = residual_square_no_regularization.sum()\n",
    "print \"RSS For No Regularization: {0}\".format(rss_no_regularization)"
   ]
  },
  {
   "cell_type": "code",
   "execution_count": 26,
   "metadata": {},
   "outputs": [
    {
     "name": "stdout",
     "output_type": "stream",
     "text": [
      "RSS For High Regularization: 6.94642088704e+14\n"
     ]
    }
   ],
   "source": [
    "# High regularization\n",
    "prediction_high_regularization = predict_output(simple_test_feature_matrix, simple_weights_high_penalty)\n",
    "residual_high_regularization = prediction_high_regularization - test_output\n",
    "residual_square_high_regularization = residual_high_regularization ** 2\n",
    "rss_high_regularization = residual_square_high_regularization.sum()\n",
    "print \"RSS For High Regularization: {0}\".format(rss_high_regularization)"
   ]
  },
  {
   "cell_type": "markdown",
   "metadata": {},
   "source": [
    "***QUIZ QUESTIONS***\n",
    "1. What is the value of the coefficient for `sqft_living` that you learned with no regularization, rounded to 1 decimal place?  What about the one with high regularization?\n",
    "2. Comparing the lines you fit with the with no regularization versus high regularization, which one is steeper?\n",
    "3. What are the RSS on the test data for each of the set of weights above (initial, no regularization, high regularization)?"
   ]
  },
  {
   "cell_type": "markdown",
   "metadata": {},
   "source": [
    "## Running Multiple Regression L2 Penalty\n",
    "\n",
    "Let us now consider a model with 2 features: `[\"sqft_living\", \"sqft_living15\"]`.\n",
    "\n",
    "First, create Numpy versions of your training and test data with these two features. "
   ]
  },
  {
   "cell_type": "code",
   "execution_count": 51,
   "metadata": {},
   "outputs": [],
   "source": [
    "model_features = [\"sqft_living\", \"sqft_living15\"] # sqft_living15 is the average squarefeet for the nearest 15 neighbors. \n",
    "my_output = \"price\"\n",
    "(train_feature_matrix, train_output) = get_numpy_data(train_data, model_features, my_output)\n",
    "(test_feature_matrix, test_output) = get_numpy_data(test_data, model_features, my_output)"
   ]
  },
  {
   "cell_type": "markdown",
   "metadata": {},
   "source": [
    "We need to re-inialize the weights, since we have one extra parameter. Let us also set the step size and maximum number of iterations."
   ]
  },
  {
   "cell_type": "code",
   "execution_count": 52,
   "metadata": {},
   "outputs": [],
   "source": [
    "initial_weights = np.array([0.0,0.0,0.0])\n",
    "step_size = 1e-12\n",
    "max_iterations = 1000"
   ]
  },
  {
   "cell_type": "markdown",
   "metadata": {},
   "source": [
    "First, let's consider no regularization.  Set the `l2_penalty` to `0.0` and run your ridge regression algorithm to learn the weights of your model. Call your weights:\n",
    "\n",
    "`multiple_weights_0_penalty`"
   ]
  },
  {
   "cell_type": "code",
   "execution_count": 56,
   "metadata": {},
   "outputs": [
    {
     "name": "stdout",
     "output_type": "stream",
     "text": [
      "Starting gradient descent with l2_penalty = 0.0\n",
      "Iteration = 1\n",
      "Cost function =  7433051851026171.0\n",
      "Iteration = 2\n",
      "Cost function =  4056752331500973.0\n",
      "Iteration = 3\n",
      "Cost function =  2529565114333592.0\n",
      "Iteration = 4\n",
      "Cost function =  1838556694275926.8\n",
      "Iteration = 5\n",
      "Cost function =  1525675575208603.5\n",
      "Iteration = 6\n",
      "Cost function =  1383789498674793.8\n",
      "Iteration = 7\n",
      "Cost function =  1319232606276634.5\n",
      "Iteration = 8\n",
      "Cost function =  1289648872028920.8\n",
      "Iteration = 9\n",
      "Cost function =  1275884724079266.8\n",
      "Iteration = 10\n",
      "Cost function =  1269278807577156.8\n",
      "Iteration = 20\n",
      "Cost function =  1257812386316614.8\n",
      "Iteration = 30\n",
      "Cost function =  1251954571266786.0\n",
      "Iteration = 40\n",
      "Cost function =  1246755423155437.5\n",
      "Iteration = 50\n",
      "Cost function =  1242139508748821.0\n",
      "Iteration = 60\n",
      "Cost function =  1238041401137188.0\n",
      "Iteration = 70\n",
      "Cost function =  1234403013463993.5\n",
      "Iteration = 80\n",
      "Cost function =  1231172774976820.2\n",
      "Iteration = 90\n",
      "Cost function =  1228304900059555.0\n",
      "Iteration = 100\n",
      "Cost function =  1225758739263725.8\n",
      "Iteration = 200\n",
      "Cost function =  1211738881421532.5\n",
      "Iteration = 300\n",
      "Cost function =  1207473080962631.5\n",
      "Iteration = 400\n",
      "Cost function =  1206175125770960.0\n",
      "Iteration = 500\n",
      "Cost function =  1205780190233996.0\n",
      "Iteration = 600\n",
      "Cost function =  1205660014471676.0\n",
      "Iteration = 700\n",
      "Cost function =  1205623439252682.0\n",
      "Iteration = 800\n",
      "Cost function =  1205612300984401.0\n",
      "Iteration = 900\n",
      "Cost function =  1205608902360341.5\n",
      "Iteration = 1000\n",
      "Cost function =  1205607858660559.5\n",
      "Done with gradient descent at iteration  1001\n",
      "Learned weights =  [ -0.35780713 243.0557255   22.41312582]\n",
      "Coefficient Value: 243.1\n"
     ]
    }
   ],
   "source": [
    "l2_penalty = 0.0\n",
    "multiple_weights_0_penalty = ridge_regression_gradient_descent(train_feature_matrix,\n",
    "                                                               train_output,\n",
    "                                                               initial_weights,\n",
    "                                                               step_size,\n",
    "                                                               l2_penalty,\n",
    "                                                               max_iterations)\n",
    "\n",
    "print \"Coefficient Value: {0}\".format(round(multiple_weights_0_penalty[1], 1))"
   ]
  },
  {
   "cell_type": "markdown",
   "metadata": {},
   "source": [
    "Next, let's consider high regularization. Set the `l2_penalty` to `1e11` and run your ridge regression algorithm to learn the weights of your model. Call your weights:\n",
    "\n",
    "`multiple_weights_high_penalty`"
   ]
  },
  {
   "cell_type": "code",
   "execution_count": 55,
   "metadata": {},
   "outputs": [
    {
     "name": "stdout",
     "output_type": "stream",
     "text": [
      "Starting gradient descent with l2_penalty = 1e+11\n",
      "Iteration = 1\n",
      "Cost function =  7433051851026171.0\n",
      "Iteration = 2\n",
      "Cost function =  4460489790285892.0\n",
      "Iteration = 3\n",
      "Cost function =  3796674468844608.5\n",
      "Iteration = 4\n",
      "Cost function =  3648319530437361.0\n",
      "Iteration = 5\n",
      "Cost function =  3615091103216103.0\n",
      "Iteration = 6\n",
      "Cost function =  3607602742514732.0\n",
      "Iteration = 7\n",
      "Cost function =  3605886322161656.0\n",
      "Iteration = 8\n",
      "Cost function =  3605474874533295.5\n",
      "Iteration = 9\n",
      "Cost function =  3605365167765576.0\n",
      "Iteration = 10\n",
      "Cost function =  3605329402184649.0\n",
      "Iteration = 20\n",
      "Cost function =  3605294281022695.0\n",
      "Iteration = 30\n",
      "Cost function =  3605293537267099.5\n",
      "Iteration = 40\n",
      "Cost function =  3605293082749905.0\n",
      "Iteration = 50\n",
      "Cost function =  3605292631106358.0\n",
      "Iteration = 60\n",
      "Cost function =  3605292179491500.5\n",
      "Iteration = 70\n",
      "Cost function =  3605291727877070.0\n",
      "Iteration = 80\n",
      "Cost function =  3605291276262785.0\n",
      "Iteration = 90\n",
      "Cost function =  3605290824648642.5\n",
      "Iteration = 100\n",
      "Cost function =  3605290373034643.5\n",
      "Iteration = 200\n",
      "Cost function =  3605285856902500.0\n",
      "Iteration = 300\n",
      "Cost function =  3605281340784634.5\n",
      "Iteration = 400\n",
      "Cost function =  3605276824681046.0\n",
      "Iteration = 500\n",
      "Cost function =  3605272308591734.5\n",
      "Iteration = 600\n",
      "Cost function =  3605267792516700.0\n",
      "Iteration = 700\n",
      "Cost function =  3605263276455942.0\n",
      "Iteration = 800\n",
      "Cost function =  3605258760409461.0\n",
      "Iteration = 900\n",
      "Cost function =  3605254244377257.0\n",
      "Iteration = 1000\n",
      "Cost function =  3605249728359329.0\n",
      "Done with gradient descent at iteration  1001\n",
      "Learned weights =  [ 6.74968593 91.48927271 78.43658678]\n",
      "Coefficient Value: 91.5\n"
     ]
    }
   ],
   "source": [
    "l2_penalty = 1e11\n",
    "multiple_weights_high_penalty = ridge_regression_gradient_descent(train_feature_matrix,\n",
    "                                                                  train_output,\n",
    "                                                                  initial_weights,\n",
    "                                                                  step_size,\n",
    "                                                                  l2_penalty,\n",
    "                                                                  max_iterations)\n",
    "\n",
    "print \"Coefficient Value: {0}\".format(round(multiple_weights_high_penalty[1], 1))"
   ]
  },
  {
   "cell_type": "markdown",
   "metadata": {},
   "source": [
    "Compute the RSS on the TEST data for the following three sets of weights:\n",
    "\n",
    "1. The initial weights (all zeros)\n",
    "2. The weights learned with no regularization\n",
    "3. The weights learned with high regularization\n",
    "\n",
    "Which weights perform best?"
   ]
  },
  {
   "cell_type": "code",
   "execution_count": 35,
   "metadata": {},
   "outputs": [
    {
     "name": "stdout",
     "output_type": "stream",
     "text": [
      "RSS For Initial Weight: 1.78427328252e+15\n"
     ]
    }
   ],
   "source": [
    "# Initial weight\n",
    "prediction_initial_weight = predict_output(test_feature_matrix, initial_weights)\n",
    "residual_initial_weight = prediction_initial_weight - test_output\n",
    "residual_square_initial_weight = residual_initial_weight ** 2\n",
    "rss_initial_weight = residual_square_initial_weight.sum()\n",
    "print \"RSS For Initial Weight: {0}\".format(rss_initial_weight)"
   ]
  },
  {
   "cell_type": "code",
   "execution_count": 36,
   "metadata": {},
   "outputs": [
    {
     "name": "stdout",
     "output_type": "stream",
     "text": [
      "RSS For No Regularization: 2.74067694347e+14\n"
     ]
    }
   ],
   "source": [
    "# No regularization\n",
    "prediction_no_regularization = predict_output(test_feature_matrix, multiple_weights_0_penalty)\n",
    "residual_no_regularization = prediction_no_regularization - test_output\n",
    "residual_square_no_regularization = residual_no_regularization ** 2\n",
    "rss_no_regularization = residual_square_no_regularization.sum()\n",
    "print \"RSS For No Regularization: {0}\".format(rss_no_regularization)"
   ]
  },
  {
   "cell_type": "code",
   "execution_count": 37,
   "metadata": {},
   "outputs": [
    {
     "name": "stdout",
     "output_type": "stream",
     "text": [
      "RSS For High Regularization: 5.00404796858e+14\n"
     ]
    }
   ],
   "source": [
    "# High regularization\n",
    "prediction_high_regularization = predict_output(test_feature_matrix, multiple_weights_high_penalty)\n",
    "residual_high_regularization = prediction_high_regularization - test_output\n",
    "residual_square_high_regularization = residual_high_regularization ** 2\n",
    "rss_high_regularization = residual_square_high_regularization.sum()\n",
    "print \"RSS For High Regularization: {0}\".format(rss_high_regularization)"
   ]
  },
  {
   "cell_type": "markdown",
   "metadata": {},
   "source": [
    "Predict the house price for the 1st house in the test set using the no regularization and high regularization models. (Remember that python starts indexing from 0). How far is the prediction from the actual price? Which weights perform best for the 1st house?"
   ]
  },
  {
   "cell_type": "code",
   "execution_count": 38,
   "metadata": {},
   "outputs": [
    {
     "name": "stdout",
     "output_type": "stream",
     "text": [
      "77464.69361981156\n"
     ]
    }
   ],
   "source": [
    "prediction = predict_output(test_feature_matrix[0], multiple_weights_0_penalty)\n",
    "price_difference = abs(prediction - test_output[0])\n",
    "print price_difference"
   ]
  },
  {
   "cell_type": "code",
   "execution_count": 39,
   "metadata": {},
   "outputs": [
    {
     "name": "stdout",
     "output_type": "stream",
     "text": [
      "39546.46587026934\n"
     ]
    }
   ],
   "source": [
    "prediction = predict_output(test_feature_matrix[0], multiple_weights_high_penalty)\n",
    "price_difference = abs(prediction - test_output[0])\n",
    "print price_difference"
   ]
  },
  {
   "cell_type": "markdown",
   "metadata": {},
   "source": [
    "***QUIZ QUESTIONS***\n",
    "1. What is the value of the coefficient for `sqft_living` that you learned with no regularization, rounded to 1 decimal place?  What about the one with high regularization?\n",
    "2. What are the RSS on the test data for each of the set of weights above (initial, no regularization, high regularization)? \n",
    "3. We make prediction for the first house in the test set using two sets of weights (no regularization vs high regularization). Which weights make better prediction <u>for that particular house</u>?"
   ]
  },
  {
   "cell_type": "code",
   "execution_count": null,
   "metadata": {},
   "outputs": [],
   "source": []
  }
 ],
 "metadata": {
  "kernelspec": {
   "display_name": "Python 2",
   "language": "python",
   "name": "python2"
  },
  "language_info": {
   "codemirror_mode": {
    "name": "ipython",
    "version": 2
   },
   "file_extension": ".py",
   "mimetype": "text/x-python",
   "name": "python",
   "nbconvert_exporter": "python",
   "pygments_lexer": "ipython2",
   "version": "2.7.16"
  }
 },
 "nbformat": 4,
 "nbformat_minor": 2
}
