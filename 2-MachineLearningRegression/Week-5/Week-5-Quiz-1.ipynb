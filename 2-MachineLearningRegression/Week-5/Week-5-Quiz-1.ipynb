{
 "cells": [
  {
   "cell_type": "markdown",
   "metadata": {},
   "source": [
    "# Quiz 1"
   ]
  },
  {
   "cell_type": "markdown",
   "metadata": {},
   "source": [
    "1. The best fit model of size 5 (i.e., with 5 features) always contains the set of features from best fit model of size 4.\n",
    "    * False\n",
    "\n",
    "2. Given 20 potential features, how many models do you have to evaluate in the all subsets algorithm?\n",
    "    * 1,048,576\n",
    "\n",
    "3. Given 20 potential features, how many models do you have to evaluate if you are running the forward stepwise greedy algorithm? Assume you run the algorithm all the way to the full feature set.\n",
    "    * 210\n",
    "\n",
    "4. Which of the plots could correspond to a lasso coefficient path? Select ALL that apply.\n",
    "Hint: notice $\\lambda=\\infty$ in the bottom right of the plots. How should coefficients behave eventually as $\\lambda$ goes to infinity?\n",
    "    * 2nd\n",
    "    * 3rd\n",
    "\n",
    "5. Which of the following statements about coordinate descent is true? (Select all that apply.)\n",
    "    * To test the convergence of coordinate descent, look at the size of the maximum step you take as you cycle through coordinates.\n",
    "\n",
    "6. Using normalized features, the ordinary least squares coordinate descent update for feature j has the form (with $\\rho_j$ defined as in the videos):\n",
    "    * $w_j=\\rho_j$\n",
    "\n",
    "7.  Using normalized features, the ridge regression coordinate descent update for feature j has the form (with $\\rho_j$ defined as in the videos):\n",
    "    * $w_j=\\rho_j/(\\lambda + 1)$"
   ]
  },
  {
   "cell_type": "code",
   "execution_count": null,
   "metadata": {},
   "outputs": [],
   "source": []
  }
 ],
 "metadata": {
  "kernelspec": {
   "display_name": "Python 2",
   "language": "python",
   "name": "python2"
  },
  "language_info": {
   "codemirror_mode": {
    "name": "ipython",
    "version": 2
   },
   "file_extension": ".py",
   "mimetype": "text/x-python",
   "name": "python",
   "nbconvert_exporter": "python",
   "pygments_lexer": "ipython2",
   "version": "2.7.16"
  }
 },
 "nbformat": 4,
 "nbformat_minor": 2
}
