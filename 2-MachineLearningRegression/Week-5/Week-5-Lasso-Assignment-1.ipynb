{
 "cells": [
  {
   "cell_type": "markdown",
   "metadata": {},
   "source": [
    "# Regression Week 5: Feature Selection and LASSO (Interpretation)\n",
    "\n",
    "In this notebook, you will use LASSO to select features, building on a pre-implemented solver for LASSO (using GraphLab Create, though you can use other solvers). You will:\n",
    "\n",
    "* Run LASSO with different L1 penalties.\n",
    "* Choose best L1 penalty using a validation set.\n",
    "* Choose best L1 penalty using a validation set, with additional constraint on the size of subset.\n",
    "\n",
    "In the second notebook, you will implement your own LASSO solver, using coordinate descent. "
   ]
  },
  {
   "cell_type": "code",
   "execution_count": 3,
   "metadata": {},
   "outputs": [],
   "source": [
    "# GraphLab\n",
    "import graphlab"
   ]
  },
  {
   "cell_type": "markdown",
   "metadata": {},
   "source": [
    "## Load House Sale Data\n",
    "\n",
    "Dataset is from house sales in King County, the region where the city of Seattle, WA is located."
   ]
  },
  {
   "cell_type": "code",
   "execution_count": 4,
   "metadata": {},
   "outputs": [],
   "source": [
    "sales = graphlab.SFrame(\"kc_house_data.gl/\")"
   ]
  },
  {
   "cell_type": "markdown",
   "metadata": {},
   "source": [
    "## Useful Function"
   ]
  },
  {
   "cell_type": "code",
   "execution_count": 5,
   "metadata": {},
   "outputs": [],
   "source": [
    "# Library\n",
    "import math\n",
    "import random\n",
    "import numpy as np\n",
    "from matplotlib import pyplot as plt\n",
    "%matplotlib inline"
   ]
  },
  {
   "cell_type": "code",
   "execution_count": 6,
   "metadata": {},
   "outputs": [],
   "source": [
    "def print_coefficients(model):    \n",
    "    # Get the degree of the polynomial\n",
    "    deg = len(model.coefficients[\"value\"]) - 1\n",
    "\n",
    "    # Get learned parameters as a list\n",
    "    w = list(model.coefficients[\"value\"])\n",
    "\n",
    "    # Numpy has a nifty function to print out polynomials in a pretty way\n",
    "    # (We'll use it, but it needs the parameters in the reverse order)\n",
    "    print \"Learned polynomial for degree \" + str(deg) + \":\"\n",
    "    w.reverse()\n",
    "    print np.poly1d(w)"
   ]
  },
  {
   "cell_type": "markdown",
   "metadata": {},
   "source": [
    "## Create New Feature\n",
    "\n",
    "As in Week 2, we consider features that are some transformations of inputs."
   ]
  },
  {
   "cell_type": "code",
   "execution_count": 8,
   "metadata": {},
   "outputs": [],
   "source": [
    "from math import log, sqrt\n",
    "sales[\"sqft_living_sqrt\"] = sales[\"sqft_living\"].apply(sqrt)\n",
    "sales[\"sqft_lot_sqrt\"] = sales[\"sqft_lot\"].apply(sqrt)\n",
    "sales[\"bedrooms_square\"] = sales[\"bedrooms\"] * sales[\"bedrooms\"]\n",
    "\n",
    "# In the dataset, 'floors' was defined with type string, \n",
    "# so we'll convert them to float, before creating a new feature.\n",
    "sales[\"floors\"] = sales[\"floors\"].astype(float) \n",
    "sales[\"floors_square\"] = sales[\"floors\"] * sales[\"floors\"]"
   ]
  },
  {
   "cell_type": "markdown",
   "metadata": {},
   "source": [
    "* Squaring bedrooms will increase the separation between not many bedrooms (e.g. 1) and lots of bedrooms (e.g. 4) since 1^2 = 1 but 4^2 = 16. Consequently this variable will mostly affect houses with many bedrooms.\n",
    "* On the other hand, taking square root of `sqft_living` will decrease the separation between big house and small house. The owner may not be exactly twice as happy for getting a house that is twice as big."
   ]
  },
  {
   "cell_type": "markdown",
   "metadata": {},
   "source": [
    "## Learn Regression Weight, L1 Penalty\n",
    "\n",
    "Let us fit a model with all the features available, plus the features we just created above."
   ]
  },
  {
   "cell_type": "code",
   "execution_count": 9,
   "metadata": {},
   "outputs": [],
   "source": [
    "all_features = [\"bedrooms\",\n",
    "                \"bedrooms_square\",\n",
    "                \"bathrooms\",\n",
    "                \"sqft_living\",\n",
    "                \"sqft_living_sqrt\",\n",
    "                \"sqft_lot\",\n",
    "                \"sqft_lot_sqrt\",\n",
    "                \"floors\",\n",
    "                \"floors_square\",\n",
    "                \"waterfront\",\n",
    "                \"view\",\n",
    "                \"condition\",\n",
    "                \"grade\",\n",
    "                \"sqft_above\",\n",
    "                \"sqft_basement\",\n",
    "                \"yr_built\",\n",
    "                \"yr_renovated\"]"
   ]
  },
  {
   "cell_type": "markdown",
   "metadata": {},
   "source": [
    "Applying L1 penalty requires adding an extra parameter (`l1_penalty`) to the linear regression call in GraphLab Create. (Other tools may have separate implementations of LASSO.)  Note that it's important to set `l2_penalty = 0` to ensure we don't introduce an additional L2 penalty."
   ]
  },
  {
   "cell_type": "code",
   "execution_count": 10,
   "metadata": {},
   "outputs": [
    {
     "data": {
      "text/html": [
       "<pre>Linear regression:</pre>"
      ],
      "text/plain": [
       "Linear regression:"
      ]
     },
     "metadata": {},
     "output_type": "display_data"
    },
    {
     "data": {
      "text/html": [
       "<pre>--------------------------------------------------------</pre>"
      ],
      "text/plain": [
       "--------------------------------------------------------"
      ]
     },
     "metadata": {},
     "output_type": "display_data"
    },
    {
     "data": {
      "text/html": [
       "<pre>Number of examples          : 21613</pre>"
      ],
      "text/plain": [
       "Number of examples          : 21613"
      ]
     },
     "metadata": {},
     "output_type": "display_data"
    },
    {
     "data": {
      "text/html": [
       "<pre>Number of features          : 17</pre>"
      ],
      "text/plain": [
       "Number of features          : 17"
      ]
     },
     "metadata": {},
     "output_type": "display_data"
    },
    {
     "data": {
      "text/html": [
       "<pre>Number of unpacked features : 17</pre>"
      ],
      "text/plain": [
       "Number of unpacked features : 17"
      ]
     },
     "metadata": {},
     "output_type": "display_data"
    },
    {
     "data": {
      "text/html": [
       "<pre>Number of coefficients    : 18</pre>"
      ],
      "text/plain": [
       "Number of coefficients    : 18"
      ]
     },
     "metadata": {},
     "output_type": "display_data"
    },
    {
     "data": {
      "text/html": [
       "<pre>Starting Accelerated Gradient (FISTA)</pre>"
      ],
      "text/plain": [
       "Starting Accelerated Gradient (FISTA)"
      ]
     },
     "metadata": {},
     "output_type": "display_data"
    },
    {
     "data": {
      "text/html": [
       "<pre>--------------------------------------------------------</pre>"
      ],
      "text/plain": [
       "--------------------------------------------------------"
      ]
     },
     "metadata": {},
     "output_type": "display_data"
    },
    {
     "data": {
      "text/html": [
       "<pre>+-----------+----------+-----------+--------------+--------------------+---------------+</pre>"
      ],
      "text/plain": [
       "+-----------+----------+-----------+--------------+--------------------+---------------+"
      ]
     },
     "metadata": {},
     "output_type": "display_data"
    },
    {
     "data": {
      "text/html": [
       "<pre>| Iteration | Passes   | Step size | Elapsed Time | Training-max_error | Training-rmse |</pre>"
      ],
      "text/plain": [
       "| Iteration | Passes   | Step size | Elapsed Time | Training-max_error | Training-rmse |"
      ]
     },
     "metadata": {},
     "output_type": "display_data"
    },
    {
     "data": {
      "text/html": [
       "<pre>+-----------+----------+-----------+--------------+--------------------+---------------+</pre>"
      ],
      "text/plain": [
       "+-----------+----------+-----------+--------------+--------------------+---------------+"
      ]
     },
     "metadata": {},
     "output_type": "display_data"
    },
    {
     "data": {
      "text/html": [
       "<pre>Tuning step size. First iteration could take longer than subsequent iterations.</pre>"
      ],
      "text/plain": [
       "Tuning step size. First iteration could take longer than subsequent iterations."
      ]
     },
     "metadata": {},
     "output_type": "display_data"
    },
    {
     "data": {
      "text/html": [
       "<pre>| 1         | 2        | 0.000002  | 1.252412     | 6962915.603493     | 426631.749026 |</pre>"
      ],
      "text/plain": [
       "| 1         | 2        | 0.000002  | 1.252412     | 6962915.603493     | 426631.749026 |"
      ]
     },
     "metadata": {},
     "output_type": "display_data"
    },
    {
     "data": {
      "text/html": [
       "<pre>| 2         | 3        | 0.000002  | 1.275307     | 6843144.200219     | 392488.929838 |</pre>"
      ],
      "text/plain": [
       "| 2         | 3        | 0.000002  | 1.275307     | 6843144.200219     | 392488.929838 |"
      ]
     },
     "metadata": {},
     "output_type": "display_data"
    },
    {
     "data": {
      "text/html": [
       "<pre>| 3         | 4        | 0.000002  | 1.301333     | 6831900.032123     | 385340.166783 |</pre>"
      ],
      "text/plain": [
       "| 3         | 4        | 0.000002  | 1.301333     | 6831900.032123     | 385340.166783 |"
      ]
     },
     "metadata": {},
     "output_type": "display_data"
    },
    {
     "data": {
      "text/html": [
       "<pre>| 4         | 5        | 0.000002  | 1.327528     | 6847166.848958     | 384842.383767 |</pre>"
      ],
      "text/plain": [
       "| 4         | 5        | 0.000002  | 1.327528     | 6847166.848958     | 384842.383767 |"
      ]
     },
     "metadata": {},
     "output_type": "display_data"
    },
    {
     "data": {
      "text/html": [
       "<pre>| 5         | 6        | 0.000002  | 1.353822     | 6869667.895833     | 385998.458623 |</pre>"
      ],
      "text/plain": [
       "| 5         | 6        | 0.000002  | 1.353822     | 6869667.895833     | 385998.458623 |"
      ]
     },
     "metadata": {},
     "output_type": "display_data"
    },
    {
     "data": {
      "text/html": [
       "<pre>| 6         | 7        | 0.000002  | 1.375347     | 6847177.773672     | 380824.455891 |</pre>"
      ],
      "text/plain": [
       "| 6         | 7        | 0.000002  | 1.375347     | 6847177.773672     | 380824.455891 |"
      ]
     },
     "metadata": {},
     "output_type": "display_data"
    },
    {
     "data": {
      "text/html": [
       "<pre>+-----------+----------+-----------+--------------+--------------------+---------------+</pre>"
      ],
      "text/plain": [
       "+-----------+----------+-----------+--------------+--------------------+---------------+"
      ]
     },
     "metadata": {},
     "output_type": "display_data"
    },
    {
     "data": {
      "text/html": [
       "<pre>TERMINATED: Iteration limit reached.</pre>"
      ],
      "text/plain": [
       "TERMINATED: Iteration limit reached."
      ]
     },
     "metadata": {},
     "output_type": "display_data"
    },
    {
     "data": {
      "text/html": [
       "<pre>This model may not be optimal. To improve it, consider increasing `max_iterations`.</pre>"
      ],
      "text/plain": [
       "This model may not be optimal. To improve it, consider increasing `max_iterations`."
      ]
     },
     "metadata": {},
     "output_type": "display_data"
    }
   ],
   "source": [
    "model_all = graphlab.linear_regression.create(sales,\n",
    "                                              target = \"price\",\n",
    "                                              features = all_features,\n",
    "                                              validation_set = None, \n",
    "                                              l2_penalty = 0.,\n",
    "                                              l1_penalty = 1e10)"
   ]
  },
  {
   "cell_type": "markdown",
   "metadata": {},
   "source": [
    "Find what features had non-zero weight."
   ]
  },
  {
   "cell_type": "code",
   "execution_count": 11,
   "metadata": {},
   "outputs": [
    {
     "name": "stdout",
     "output_type": "stream",
     "text": [
      "Learned polynomial for degree 17:\n",
      "       14         13         5         4        3\n",
      "20.02 x  + 842.1 x  + 350.1 x + 24.42 x + 8469 x + 2.749e+05\n",
      "+------------------+-------+---------------+--------+\n",
      "|       name       | index |     value     | stderr |\n",
      "+------------------+-------+---------------+--------+\n",
      "|   (intercept)    |  None |  274873.05595 |  None  |\n",
      "|     bedrooms     |  None |      0.0      |  None  |\n",
      "| bedrooms_square  |  None |      0.0      |  None  |\n",
      "|    bathrooms     |  None | 8468.53108691 |  None  |\n",
      "|   sqft_living    |  None | 24.4207209824 |  None  |\n",
      "| sqft_living_sqrt |  None | 350.060553386 |  None  |\n",
      "|     sqft_lot     |  None |      0.0      |  None  |\n",
      "|  sqft_lot_sqrt   |  None |      0.0      |  None  |\n",
      "|      floors      |  None |      0.0      |  None  |\n",
      "|  floors_square   |  None |      0.0      |  None  |\n",
      "|    waterfront    |  None |      0.0      |  None  |\n",
      "|       view       |  None |      0.0      |  None  |\n",
      "|    condition     |  None |      0.0      |  None  |\n",
      "|      grade       |  None | 842.068034898 |  None  |\n",
      "|    sqft_above    |  None | 20.0247224171 |  None  |\n",
      "|  sqft_basement   |  None |      0.0      |  None  |\n",
      "|     yr_built     |  None |      0.0      |  None  |\n",
      "|   yr_renovated   |  None |      0.0      |  None  |\n",
      "+------------------+-------+---------------+--------+\n",
      "[18 rows x 4 columns]\n",
      "\n"
     ]
    }
   ],
   "source": [
    "print_coefficients(model_all)\n",
    "\n",
    "model_all.get(\"coefficients\").print_rows(num_rows = 20)"
   ]
  },
  {
   "cell_type": "code",
   "execution_count": 12,
   "metadata": {},
   "outputs": [],
   "source": [
    "# Check zero and non-zero weight\n",
    "zero_weight_count = 0\n",
    "for value in model_all.coefficients[\"value\"]:\n",
    "    if value == 0:\n",
    "        zero_weight_count = zero_weight_count + 1\n",
    "\n",
    "#print \"Non-Zero Weight Count: {0}\".format(len(model_all.coefficients[\"value\"]) - zero_weight_count)"
   ]
  },
  {
   "cell_type": "markdown",
   "metadata": {},
   "source": [
    "Note that a majority of the weights have been set to zero. So by setting an L1 penalty that's large enough, we are performing a subset selection. \n",
    "\n",
    "***QUIZ QUESTION***:\n",
    "According to this list of weights, which of the features have been chosen?"
   ]
  },
  {
   "cell_type": "markdown",
   "metadata": {},
   "source": [
    "## Select L1 Penalty\n",
    "\n",
    "To find a good L1 penalty, we will explore multiple values using a validation set. Let us do three way split into train, validation, and test sets:\n",
    "\n",
    "* Split our sales data into 2 sets: training and test\n",
    "* Further split our training data into two sets: train, validation\n",
    "\n",
    "Be *very* careful that you use `seed = 1` to ensure you get the same answer!"
   ]
  },
  {
   "cell_type": "code",
   "execution_count": 12,
   "metadata": {},
   "outputs": [],
   "source": [
    "(training_and_validation, testing) = sales.random_split(.9, seed = 1) # initial train/test split\n",
    "(training, validation) = training_and_validation.random_split(0.5, seed = 1) # split training into train and validate"
   ]
  },
  {
   "cell_type": "markdown",
   "metadata": {},
   "source": [
    "Next, we write a loop that does the following:\n",
    "\n",
    "* for `l1_penalty` `in [10^1, 10^1.5, 10^2, 10^2.5, ..., 10^7]` (to get this in Python, type `np.logspace(1, 7, num = 13)`.)\n",
    "    * Fit a regression model with a given `l1_penalty` on TRAIN data. Specify `l1_penalty = l1_penalty` and `l2_penalty = 0.` in the parameter list.\n",
    "    * Compute the RSS on VALIDATION data (here you will want to use `.predict()`) for that `l1_penalty`\n",
    "* Report which `l1_penalty` produced the lowest RSS on validation data.\n",
    "\n",
    "When you call `linear_regression.create()` make sure you set `validation_set = None`.\n",
    "\n",
    "Note: you can turn off the print out of `linear_regression.create()` with `verbose = False`"
   ]
  },
  {
   "cell_type": "code",
   "execution_count": 13,
   "metadata": {},
   "outputs": [
    {
     "name": "stdout",
     "output_type": "stream",
     "text": [
      "L1 Penalty: 10.0\n",
      "RSS: 6.25766285142e+14\n",
      "L1 Penalty: 31.6227766017\n",
      "RSS: 6.25766285362e+14\n",
      "L1 Penalty: 100.0\n",
      "RSS: 6.25766286058e+14\n",
      "L1 Penalty: 316.227766017\n",
      "RSS: 6.25766288257e+14\n",
      "L1 Penalty: 1000.0\n",
      "RSS: 6.25766295212e+14\n",
      "L1 Penalty: 3162.27766017\n",
      "RSS: 6.25766317206e+14\n",
      "L1 Penalty: 10000.0\n",
      "RSS: 6.25766386761e+14\n",
      "L1 Penalty: 31622.7766017\n",
      "RSS: 6.25766606749e+14\n",
      "L1 Penalty: 100000.0\n",
      "RSS: 6.25767302792e+14\n",
      "L1 Penalty: 316227.766017\n",
      "RSS: 6.25769507644e+14\n",
      "L1 Penalty: 1000000.0\n",
      "RSS: 6.25776517727e+14\n",
      "L1 Penalty: 3162277.66017\n",
      "RSS: 6.25799062845e+14\n",
      "L1 Penalty: 10000000.0\n",
      "RSS: 6.25883719085e+14\n"
     ]
    }
   ],
   "source": [
    "lowest_rss = None\n",
    "best_l1_penalty = None\n",
    "\n",
    "l1_penalty_value = np.logspace(1, 7, num = 13)\n",
    "\n",
    "for l1_penalty in l1_penalty_value:\n",
    "    print \"L1 Penalty: {0}\".format(l1_penalty)\n",
    "    model_l1 = graphlab.linear_regression.create(training,\n",
    "                                                 target = \"price\",\n",
    "                                                 features = all_features,\n",
    "                                                 l2_penalty = 0.,\n",
    "                                                 l1_penalty = l1_penalty,\n",
    "                                                 validation_set = None,\n",
    "                                                 verbose = False)\n",
    "    # Prediction and RSS\n",
    "    prediction = model_l1.predict(validation)\n",
    "    residual = prediction - validation[\"price\"]\n",
    "    residual_square = residual ** 2\n",
    "    rss = residual_square.sum()\n",
    "    \n",
    "    # Check lowest RSS\n",
    "    if lowest_rss is None or rss < lowest_rss:\n",
    "        lowest_rss = rss\n",
    "        best_l1_penalty = l1_penalty\n",
    "    \n",
    "    print \"RSS: {0}\".format(rss)"
   ]
  },
  {
   "cell_type": "markdown",
   "metadata": {},
   "source": [
    "*** QUIZ QUESTION. *** What was the best value for the `l1_penalty`?"
   ]
  },
  {
   "cell_type": "code",
   "execution_count": 14,
   "metadata": {},
   "outputs": [
    {
     "name": "stdout",
     "output_type": "stream",
     "text": [
      "Lowest RSS: 6.25766285142e+14\n",
      "Best L1 Penalty: 10.0\n"
     ]
    }
   ],
   "source": [
    "print \"Lowest RSS: {0}\".format(lowest_rss)\n",
    "print \"Best L1 Penalty: {0}\".format(best_l1_penalty)"
   ]
  },
  {
   "cell_type": "markdown",
   "metadata": {},
   "source": [
    "***QUIZ QUESTION***\n",
    "Also, using this value of L1 penalty, how many nonzero weights do you have?"
   ]
  },
  {
   "cell_type": "code",
   "execution_count": 15,
   "metadata": {},
   "outputs": [
    {
     "name": "stdout",
     "output_type": "stream",
     "text": [
      "Learned polynomial for degree 17:\n",
      "       17         16       15         14        13        12\n",
      "55.33 x  + 9.395 x  + 122 x  + 43.26 x  + 6200 x  + 6585 x \n",
      "              11             10             9             8         7\n",
      " + 9.309e+04 x  + 5.985e+05 x  + 1.287e+04 x + 2.115e+04 x + 147.9 x\n",
      "             6        5         4             3         2\n",
      " - 0.000824 x + 1124 x + 39.11 x + 2.539e+04 x + 928.1 x + 7923 x + 1.96e+04\n",
      "+------------------+-------+--------------------+--------+\n",
      "|       name       | index |       value        | stderr |\n",
      "+------------------+-------+--------------------+--------+\n",
      "|   (intercept)    |  None |   19604.7163508    |  None  |\n",
      "|     bedrooms     |  None |   7922.62023075    |  None  |\n",
      "| bedrooms_square  |  None |   928.112147889    |  None  |\n",
      "|    bathrooms     |  None |    25392.743443    |  None  |\n",
      "|   sqft_living    |  None |   39.1083048767    |  None  |\n",
      "| sqft_living_sqrt |  None |   1123.95233925    |  None  |\n",
      "|     sqft_lot     |  None | -0.000823987151992 |  None  |\n",
      "|  sqft_lot_sqrt   |  None |   147.859054391    |  None  |\n",
      "|      floors      |  None |    21154.353574    |  None  |\n",
      "|  floors_square   |  None |    12871.042877    |  None  |\n",
      "|    waterfront    |  None |   598538.378522    |  None  |\n",
      "|       view       |  None |   93089.3048849    |  None  |\n",
      "|    condition     |  None |   6584.64358167    |  None  |\n",
      "|      grade       |  None |   6200.37319739    |  None  |\n",
      "|    sqft_above    |  None |   43.2627983054    |  None  |\n",
      "|  sqft_basement   |  None |   122.027231745    |  None  |\n",
      "|     yr_built     |  None |   9.39509533202    |  None  |\n",
      "|   yr_renovated   |  None |   55.3271344922    |  None  |\n",
      "+------------------+-------+--------------------+--------+\n",
      "[18 rows x 4 columns]\n",
      "\n"
     ]
    }
   ],
   "source": [
    "print_coefficients(model_l1)\n",
    "\n",
    "model_l1.get(\"coefficients\").print_rows(num_rows = 20)"
   ]
  },
  {
   "cell_type": "markdown",
   "metadata": {},
   "source": [
    "## Limit Non-Zero Weight"
   ]
  },
  {
   "cell_type": "markdown",
   "metadata": {},
   "source": [
    "What if we absolutely wanted to limit ourselves to, say, 7 features? This may be important if we want to derive \"a rule of thumb\" --- an interpretable model that has only a few features in them."
   ]
  },
  {
   "cell_type": "markdown",
   "metadata": {},
   "source": [
    "In this section, you are going to implement a simple, two phase procedure to achive this goal:\n",
    "\n",
    "1. Explore a large range of `l1_penalty` values to find a narrow region of `l1_penalty` values where models are likely to have the desired number of non-zero weights.\n",
    "2. Further explore the narrow region you found to find a good value for `l1_penalty` that achieves the desired sparsity.  Here, we will again use a validation set to choose the best value for `l1_penalty`."
   ]
  },
  {
   "cell_type": "code",
   "execution_count": 16,
   "metadata": {},
   "outputs": [],
   "source": [
    "max_nonzeros = 7"
   ]
  },
  {
   "cell_type": "markdown",
   "metadata": {},
   "source": [
    "## Explore Larger Range Value To Find Narrow Range With Desire Sparsity"
   ]
  },
  {
   "cell_type": "markdown",
   "metadata": {},
   "source": [
    "Let's define a wide range of possible `l1_penalty_values`:"
   ]
  },
  {
   "cell_type": "code",
   "execution_count": 17,
   "metadata": {},
   "outputs": [],
   "source": [
    "l1_penalty_values = np.logspace(8, 10, num = 20)"
   ]
  },
  {
   "cell_type": "markdown",
   "metadata": {},
   "source": [
    "Now, implement a loop that search through this space of possible `l1_penalty` values:\n",
    "\n",
    "* for `l1_penalty` in `np.logspace(8, 10, num = 20)`:\n",
    "    * Fit a regression model with a given `l1_penalty` on TRAIN data. Specify `l1_penalty = l1_penalty` and `l2_penalty = 0.` in the parameter list. When you call `linear_regression.create()` make sure you set `validation_set = None`\n",
    "    * Extract the weights of the model and count the number of nonzeros. Save the number of nonzeros to a list.\n",
    "        * *Hint: `model['coefficients']['value']` gives you an SArray with the parameters you learned.  If you call the method `.nnz()` on it, you will find the number of non-zero parameters!* "
   ]
  },
  {
   "cell_type": "code",
   "execution_count": 18,
   "metadata": {},
   "outputs": [
    {
     "name": "stdout",
     "output_type": "stream",
     "text": [
      "L1 Penalty: 100000000.0\n",
      "Non-Zero Parameter: 17\n",
      "L1 Penalty: 127427498.57\n",
      "Non-Zero Parameter: 17\n",
      "L1 Penalty: 162377673.919\n",
      "Non-Zero Parameter: 17\n",
      "L1 Penalty: 206913808.111\n",
      "Non-Zero Parameter: 17\n",
      "L1 Penalty: 263665089.873\n",
      "Non-Zero Parameter: 16\n",
      "L1 Penalty: 335981828.628\n",
      "Non-Zero Parameter: 16\n",
      "L1 Penalty: 428133239.872\n",
      "Non-Zero Parameter: 16\n",
      "L1 Penalty: 545559478.117\n",
      "Non-Zero Parameter: 16\n",
      "L1 Penalty: 695192796.178\n",
      "Non-Zero Parameter: 16\n",
      "L1 Penalty: 885866790.41\n",
      "Non-Zero Parameter: 15\n",
      "L1 Penalty: 1128837891.68\n",
      "Non-Zero Parameter: 14\n",
      "L1 Penalty: 1438449888.29\n",
      "Non-Zero Parameter: 14\n",
      "L1 Penalty: 1832980710.83\n",
      "Non-Zero Parameter: 12\n",
      "L1 Penalty: 2335721469.09\n",
      "Non-Zero Parameter: 11\n",
      "L1 Penalty: 2976351441.63\n",
      "Non-Zero Parameter: 9\n",
      "L1 Penalty: 3792690190.73\n",
      "Non-Zero Parameter: 5\n",
      "L1 Penalty: 4832930238.57\n",
      "Non-Zero Parameter: 4\n",
      "L1 Penalty: 6158482110.66\n",
      "Non-Zero Parameter: 2\n",
      "L1 Penalty: 7847599703.51\n",
      "Non-Zero Parameter: 0\n",
      "L1 Penalty: 10000000000.0\n",
      "Non-Zero Parameter: 0\n"
     ]
    }
   ],
   "source": [
    "l1_penalty_min = None\n",
    "l1_penalty_max = None\n",
    "\n",
    "l1_penalty_min_list = []\n",
    "l1_penalty_max_list = []\n",
    "\n",
    "# Loop\n",
    "for l1_penalty in l1_penalty_values:\n",
    "    print \"L1 Penalty: {0}\".format(l1_penalty)\n",
    "    model_l1_limit = graphlab.linear_regression.create(training,\n",
    "                                                       target = \"price\",\n",
    "                                                       features = all_features,\n",
    "                                                       l2_penalty = 0.,\n",
    "                                                       l1_penalty = l1_penalty,\n",
    "                                                       validation_set = None,\n",
    "                                                       verbose = False)\n",
    "    \n",
    "    model_l1_non_zero = model_l1_limit[\"coefficients\"][\"value\"].nnz() - 1\n",
    "    \n",
    "    # Check for L1 penalty maximum\n",
    "    if model_l1_non_zero > max_nonzeros:\n",
    "        l1_penalty_min_list.append(l1_penalty)\n",
    "    \n",
    "    # Check for L1 penalty minimum\n",
    "    elif model_l1_non_zero < max_nonzeros:\n",
    "        l1_penalty_max_list.append(l1_penalty)\n",
    "    \n",
    "    print \"Non-Zero Parameter: {0}\".format(model_l1_limit[\"coefficients\"][\"value\"].nnz() - 1)\n",
    "    #print_coefficients(model_l1_limit)\n",
    "    #model_l1_limit.get(\"coefficients\").print_rows(num_rows = 20)"
   ]
  },
  {
   "cell_type": "code",
   "execution_count": 19,
   "metadata": {},
   "outputs": [],
   "source": [
    "l1_penalty_max = min(l1_penalty_max_list)\n",
    "l1_penalty_min = max(l1_penalty_min_list)"
   ]
  },
  {
   "cell_type": "markdown",
   "metadata": {},
   "source": [
    "Out of this large range, we want to find the two ends of our desired narrow range of `l1_penalty`.  At one end, we will have `l1_penalty` values that have too few non-zeros, and at the other end, we will have an `l1_penalty` that has too many non-zeros.  \n",
    "\n",
    "More formally, find:\n",
    "* The largest `l1_penalty` that has more non-zeros than `max_nonzeros` (if we pick a penalty smaller than this value, we will definitely have too many non-zero weights)\n",
    "    * Store this value in the variable `l1_penalty_min` (we will use it later)\n",
    "* The smallest `l1_penalty` that has fewer non-zeros than `max_nonzeros` (if we pick a penalty larger than this value, we will definitely have too few non-zero weights)\n",
    "    * Store this value in the variable `l1_penalty_max` (we will use it later)\n",
    "\n",
    "\n",
    "*Hint: there are many ways to do this, e.g.:*\n",
    "* Programmatically within the loop above\n",
    "* Creating a list with the number of non-zeros for each value of `l1_penalty` and inspecting it to find the appropriate boundaries."
   ]
  },
  {
   "cell_type": "code",
   "execution_count": 20,
   "metadata": {},
   "outputs": [
    {
     "name": "stdout",
     "output_type": "stream",
     "text": [
      "L1 Penalty Maximum: 3792690190.73\n",
      "L1 Penalty Minimum: 2976351441.63\n"
     ]
    }
   ],
   "source": [
    "print \"L1 Penalty Maximum: {0}\".format(l1_penalty_max)\n",
    "print \"L1 Penalty Minimum: {0}\".format(l1_penalty_min)"
   ]
  },
  {
   "cell_type": "markdown",
   "metadata": {},
   "source": [
    "***QUIZ QUESTION.*** What values did you find for `l1_penalty_min` and `l1_penalty_max`, respectively? "
   ]
  },
  {
   "cell_type": "markdown",
   "metadata": {},
   "source": [
    "## Explore Narrow Range Value For Correct Non-Zero With Lowest RSS For Validation Set\n",
    "\n",
    "We will now explore the narrow region of `l1_penalty` values we found:"
   ]
  },
  {
   "cell_type": "code",
   "execution_count": 79,
   "metadata": {},
   "outputs": [],
   "source": [
    "l1_penalty_values = np.linspace(l1_penalty_min, l1_penalty_max, 20)"
   ]
  },
  {
   "cell_type": "markdown",
   "metadata": {},
   "source": [
    "* for `l1_penalty` in `np.linspace(l1_penalty_min, l1_penalty_max, 20)`:\n",
    "    * Fit a regression model with a given `l1_penalty` on TRAIN data. Specify `l1_penalty = l1_penalty` and `l2_penalty = 0.` in the parameter list. When you call `linear_regression.create()` make sure you set `validation_set = None`\n",
    "    * Measure the RSS of the learned model on the VALIDATION set\n",
    "\n",
    "Find the model that the lowest RSS on the VALIDATION set and has sparsity *equal* to `max_nonzeros`."
   ]
  },
  {
   "cell_type": "code",
   "execution_count": 21,
   "metadata": {},
   "outputs": [
    {
     "name": "stdout",
     "output_type": "stream",
     "text": [
      "L1 Penalty: 2976351441.63\n",
      "Non-Zero: 9\n",
      "RSS: 9.66925692362e+14\n",
      "L1 Penalty: 3019316638.95\n",
      "Non-Zero: 9\n",
      "RSS: 9.74019450085e+14\n",
      "L1 Penalty: 3062281836.27\n",
      "Non-Zero: 9\n",
      "RSS: 9.81188367942e+14\n",
      "L1 Penalty: 3105247033.59\n",
      "Non-Zero: 9\n",
      "RSS: 9.89328342459e+14\n",
      "L1 Penalty: 3148212230.92\n",
      "Non-Zero: 9\n",
      "RSS: 9.98783211266e+14\n",
      "L1 Penalty: 3191177428.24\n",
      "Non-Zero: 9\n",
      "RSS: 1.00847716702e+15\n",
      "L1 Penalty: 3234142625.56\n",
      "Non-Zero: 9\n",
      "RSS: 1.01829878055e+15\n",
      "L1 Penalty: 3277107822.88\n",
      "Non-Zero: 9\n",
      "RSS: 1.02824799221e+15\n",
      "L1 Penalty: 3320073020.2\n",
      "+------------------+-------+---------------+--------+\n",
      "|       name       | index |     value     | stderr |\n",
      "+------------------+-------+---------------+--------+\n",
      "|   (intercept)    |  None | 215235.603644 |  None  |\n",
      "|     bedrooms     |  None | 1108.36955956 |  None  |\n",
      "| bedrooms_square  |  None |      0.0      |  None  |\n",
      "|    bathrooms     |  None | 16496.2360732 |  None  |\n",
      "|   sqft_living    |  None | 32.9384118477 |  None  |\n",
      "| sqft_living_sqrt |  None | 719.868441786 |  None  |\n",
      "|     sqft_lot     |  None |      0.0      |  None  |\n",
      "|  sqft_lot_sqrt   |  None |      0.0      |  None  |\n",
      "|      floors      |  None | 829.560064725 |  None  |\n",
      "|  floors_square   |  None |      0.0      |  None  |\n",
      "|    waterfront    |  None |      0.0      |  None  |\n",
      "|       view       |  None |      0.0      |  None  |\n",
      "|    condition     |  None |      0.0      |  None  |\n",
      "|      grade       |  None | 3100.35992021 |  None  |\n",
      "|    sqft_above    |  None | 30.8186652907 |  None  |\n",
      "|  sqft_basement   |  None |      0.0      |  None  |\n",
      "|     yr_built     |  None |      0.0      |  None  |\n",
      "|   yr_renovated   |  None |      0.0      |  None  |\n",
      "+------------------+-------+---------------+--------+\n",
      "[18 rows x 4 columns]\n",
      "\n",
      "Non-Zero: 7\n",
      "RSS: 1.03461690923e+15\n",
      "L1 Penalty: 3363038217.52\n",
      "Non-Zero: 7\n",
      "RSS: 1.03855473594e+15\n",
      "L1 Penalty: 3406003414.84\n",
      "Non-Zero: 7\n",
      "RSS: 1.04323723787e+15\n",
      "L1 Penalty: 3448968612.16\n",
      "Non-Zero: 6\n",
      "RSS: 1.04693748875e+15\n",
      "L1 Penalty: 3491933809.48\n",
      "Non-Zero: 6\n",
      "RSS: 1.05114762561e+15\n",
      "L1 Penalty: 3534899006.81\n",
      "Non-Zero: 6\n",
      "RSS: 1.05599273534e+15\n",
      "L1 Penalty: 3577864204.13\n",
      "Non-Zero: 6\n",
      "RSS: 1.06079953176e+15\n",
      "L1 Penalty: 3620829401.45\n",
      "Non-Zero: 5\n",
      "RSS: 1.0657076895e+15\n",
      "L1 Penalty: 3663794598.77\n",
      "Non-Zero: 5\n",
      "RSS: 1.06946433543e+15\n",
      "L1 Penalty: 3706759796.09\n",
      "Non-Zero: 5\n",
      "RSS: 1.07350454959e+15\n",
      "L1 Penalty: 3749724993.41\n",
      "Non-Zero: 5\n",
      "RSS: 1.07763277558e+15\n",
      "L1 Penalty: 3792690190.73\n",
      "Non-Zero: 5\n",
      "RSS: 1.08186759232e+15\n",
      "\n",
      "Lowest RSS: 1.03461690923e+15\n",
      "Best L1 Penalty: 3320073020.2\n"
     ]
    }
   ],
   "source": [
    "lowest_rss = None\n",
    "best_l1_penalty = None\n",
    "\n",
    "for l1_penalty in np.linspace(l1_penalty_min, l1_penalty_max, 20):\n",
    "    print \"L1 Penalty: {0}\".format(l1_penalty)\n",
    "    model_l1_narrow = graphlab.linear_regression.create(training,\n",
    "                                                        target = \"price\",\n",
    "                                                        features = all_features,\n",
    "                                                        l2_penalty = 0.,\n",
    "                                                        l1_penalty = l1_penalty,\n",
    "                                                        validation_set = None,\n",
    "                                                        verbose = False)\n",
    "    \n",
    "    model_l1_non_zero = model_l1_narrow[\"coefficients\"][\"value\"].nnz() - 1\n",
    "    \n",
    "    #model_l1_narrow.get(\"coefficients\").print_rows(num_rows = 20)\n",
    "    \n",
    "    # Prediction and RSS\n",
    "    prediction = model_l1_narrow.predict(validation)\n",
    "    residual = prediction - validation[\"price\"]\n",
    "    residual_square = residual ** 2\n",
    "    rss = residual_square.sum()\n",
    "    \n",
    "    # Check lowest RSS\n",
    "    if model_l1_non_zero == max_nonzeros:\n",
    "        if lowest_rss is None or rss < lowest_rss:\n",
    "            lowest_rss = rss\n",
    "            best_l1_penalty = l1_penalty\n",
    "            model_l1_narrow.get(\"coefficients\").print_rows(num_rows = 20)\n",
    "    \n",
    "    print \"Non-Zero: {0}\".format(model_l1_non_zero)\n",
    "    print \"RSS: {0}\".format(rss)\n",
    "    \n",
    "print \"\"\n",
    "print \"Lowest RSS: {0}\".format(lowest_rss)\n",
    "print \"Best L1 Penalty: {0}\".format(best_l1_penalty)"
   ]
  },
  {
   "cell_type": "markdown",
   "metadata": {},
   "source": [
    "`http://datainquisitive.net/wp-content/uploads/2017/01/Lasso_chosingoptimal_L1_penalty-1.html`"
   ]
  },
  {
   "cell_type": "code",
   "execution_count": null,
   "metadata": {},
   "outputs": [],
   "source": []
  }
 ],
 "metadata": {
  "kernelspec": {
   "display_name": "Python 2",
   "language": "python",
   "name": "python2"
  },
  "language_info": {
   "codemirror_mode": {
    "name": "ipython",
    "version": 2
   },
   "file_extension": ".py",
   "mimetype": "text/x-python",
   "name": "python",
   "nbconvert_exporter": "python",
   "pygments_lexer": "ipython2",
   "version": "2.7.16"
  }
 },
 "nbformat": 4,
 "nbformat_minor": 2
}
