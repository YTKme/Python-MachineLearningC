{
 "cells": [
  {
   "cell_type": "markdown",
   "metadata": {},
   "source": [
    "# Quiz 3"
   ]
  },
  {
   "cell_type": "markdown",
   "metadata": {},
   "source": [
    "1. From the section \"Effect of L1 penalty\": Consider the simple model with 2 features trained on the entire sales dataset.\n",
    "\n",
    "**Which of the following values of l1_penalty would not set w[1] zero, but would set w[2] to zero, if we were to take a coordinate gradient step in that coordinate? (Select all that apply)**\n",
    "\n",
    "    * 1.64e8\n",
    "    * 1.73e8\n",
    "\n",
    "2. Refer to the same model as the previous question.\n",
    "\n",
    "**Which of the following values of l1_penalty would set both w[1] and w[2] to zero, if we were to take a coordinate gradient step in that coordinate? (Select all that apply)**\n",
    "\n",
    "    * 1.9e8\n",
    "    * 2.3e8\n",
    "\n",
    "3. From the section \"Cyclical coordinate descent\": Using the simple model (with 2 features), we run our implementation of LASSO coordinate descent on the normalized sales dataset. We apply an L1 penalty of 1e7 and tolerance of 1.0.\n",
    "\n",
    "**Which of the following ranges contains the RSS of the learned model on the normalized dataset?**\n",
    "\n",
    "    * Between 1e15 and 3e15\n",
    "\n",
    "4. Refer to the same model as the previous question.\n",
    "\n",
    "**Which of the following features were assigned a zero weight at convergence?**\n",
    "\n",
    "    * bedrooms\n",
    "\n",
    "5. In the section \"Evaluating LASSO fit with more features\", we split the data into training and test sets and learn weights with varying degree of L1 penalties. The model now has 13 features.\n",
    "\n",
    "**In the model trained with l1_penalty=1e7, which of the following features has non-zero weight? (Select all that apply)**\n",
    "\n",
    "    * constant\n",
    "    * sqft_living\n",
    "    * waterfront\n",
    "\n",
    "6. This question refers to the same model as the previous question.\n",
    "\n",
    "**In the model trained with l1_penalty=1e8, which of the following features has non-zero weight? (Select all that apply)**\n",
    "\n",
    "    * constant\n",
    "\n",
    "7. This question refers to the same model as the previous question.\n",
    "\n",
    "**In the model trained with l1_penalty=1e4, which of the following features has non-zero weight? (Select all that apply)**\n",
    "\n",
    "    * constant\n",
    "    * sqft_living\n",
    "    * grade\n",
    "    * waterfront\n",
    "    * sqft_basement\n",
    "\n",
    "8. In the section \"Evaluating each of the learned models on the test data\", we evaluate three models on the test data. The three models were trained with same set of features but different L1 penalties.\n",
    "\n",
    "**Which of the three models gives the lowest RSS on the TEST data?**\n",
    "\n",
    "    * The model trained with 1e4"
   ]
  },
  {
   "cell_type": "markdown",
   "metadata": {},
   "source": [
    "https://www.learnfromdata.ai/static/html/nb/regression_5LassoCoordinateDescent.html\n",
    "\n",
    "https://github.com/chengzh2008/machine-learning-regression-python/blob/master/week5/week-5-lasso-assignment-2-blank.ipynb\n",
    "\n",
    "http://datainquisitive.net/wp-content/uploads/2017/01/Lasso_coordinate_descent.html\n",
    "\n"
   ]
  }
 ],
 "metadata": {
  "kernelspec": {
   "display_name": "Python 2",
   "language": "python",
   "name": "python2"
  },
  "language_info": {
   "codemirror_mode": {
    "name": "ipython",
    "version": 2
   },
   "file_extension": ".py",
   "mimetype": "text/x-python",
   "name": "python",
   "nbconvert_exporter": "python",
   "pygments_lexer": "ipython2",
   "version": "2.7.16"
  }
 },
 "nbformat": 4,
 "nbformat_minor": 2
}
