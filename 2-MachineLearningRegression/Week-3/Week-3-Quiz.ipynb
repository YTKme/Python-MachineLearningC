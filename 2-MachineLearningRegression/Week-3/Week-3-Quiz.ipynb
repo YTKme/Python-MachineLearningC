{
 "cells": [
  {
   "cell_type": "markdown",
   "metadata": {},
   "source": [
    "# Quiz"
   ]
  },
  {
   "cell_type": "markdown",
   "metadata": {},
   "source": [
    "1. If the features of Model 1 are a strict subset of those in Model 2, the TRAINING error of the two models can **never** be the same.\n",
    "    * False\n",
    "\n",
    "2. If the features of Model 1 are a strict subset of those in Model 2, which model will USUALLY have lowest TRAINING error?\n",
    "    * Model 2\n",
    "\n",
    "3. If the features of Model 1 are a strict subset of those in Model 2. which model will USUALLY have lowest TEST error?\n",
    "    * It's impossible to tell with only this information\n",
    "\n",
    "4. If the features of Model 1 are a strict subset of those in Model 2, which model will USUALLY have lower BIAS?\n",
    "    * Model 2\n",
    "\n",
    "5. Which of the following plots of model complexity vs. RSS is most likely from TRAINING data (for a fixed data set)?\n",
    "    * c\n",
    "\n",
    "6. Which of the following plots of model complexity vs. RSS is most likely from TEST data (for a fixed data set)?\n",
    "    * a\n",
    "\n",
    "7. It is **always** optimal to add more features to a regression model.\n",
    "    * False\n",
    "\n",
    "8. A simple model with few parameters is most likely to suffer from:\n",
    "    * High Bias\n",
    "\n",
    "9. A complex model with many parameters is most likely to suffer from:\n",
    "    * High Variance\n",
    "\n",
    "10. A model with many parameters that fits training data very well but does poorly on test data is considered to be\n",
    "    * overfitted\n",
    "\n",
    "11. A common process for selecting a parameter like the optimal polynomial degree is:\n",
    "    * Minimizing validation error\n",
    "\n",
    "12. Selecting model complexity on test data (choose all that apply):\n",
    "    * Provides an overly optimistic assessment of performance of the resulting model\n",
    "    * Should never be done\n",
    "\n",
    "13. Which of the following statements is true (select all that apply): For a **fixed model complexity**, in the limit of an infinite amount of training data,\n",
    "    * Variance goes to 0"
   ]
  }
 ],
 "metadata": {
  "kernelspec": {
   "display_name": "Python 2",
   "language": "python",
   "name": "python2"
  },
  "language_info": {
   "codemirror_mode": {
    "name": "ipython",
    "version": 2
   },
   "file_extension": ".py",
   "mimetype": "text/x-python",
   "name": "python",
   "nbconvert_exporter": "python",
   "pygments_lexer": "ipython2",
   "version": "2.7.16"
  }
 },
 "nbformat": 4,
 "nbformat_minor": 2
}
