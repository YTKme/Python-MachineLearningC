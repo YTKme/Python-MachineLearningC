{
 "cells": [
  {
   "cell_type": "markdown",
   "metadata": {},
   "source": [
    "# Quiz"
   ]
  },
  {
   "cell_type": "markdown",
   "metadata": {},
   "source": [
    "1. Which of the following datasets is best suited to nearest neighbor or kernel regression? Choose all that apply.\n",
    "    * A dataset with two features whose observations are evenly scattered throughout the input space\n",
    "    * A dataset with many observations\n",
    "\n",
    "2. Which of the following is the most significant advantage of k-nearest neighbor regression (for k>1) over 1-nearest neighbor regression?\n",
    "    * Better copes with noise in the data\n",
    "\n",
    "3. To obtain a fit with low variance using kernel regression, we should choose the kernel to have:\n",
    "    * Large bandwidth $\\lambda$\n",
    "\n",
    "4. In k-nearest neighbor regression and kernel regression, the complexity of functions that can be represented grows as we get more data.\n",
    "    * True\n",
    "\n",
    "5. Parametric regression and 1-nearest neighbor regression will converge to the same solution as we collect more and more noiseless observations.\n",
    "    * False\n",
    "\n",
    "6. Suppose you are creating a website to help shoppers pick houses. Every time a user of your website visits the webpage for a specific house, you want to compute a prediction of the house value. You are using 1-NN to make the prediction and have 100,000 houses in the dataset, with each house having 100 features. Computing the distance between two houses using all the features takes about 10 microseconds. Assuming the cost of all other operations involved (e.g., fetching data, etc.) is negligible, about how long will it take to make a prediction using the brute-force method described in the videos?\n",
    "    * 1 second\n",
    "\n",
    "7. For the housing website described in the previous question, you learn that you need predictions within 50 milliseconds. To accomplish this, you decide to reduce the number of features in your nearest neighbor comparisons. How many features can you use?\n",
    "    * 5 features"
   ]
  },
  {
   "cell_type": "code",
   "execution_count": null,
   "metadata": {},
   "outputs": [],
   "source": []
  }
 ],
 "metadata": {
  "kernelspec": {
   "display_name": "Python 2",
   "language": "python",
   "name": "python2"
  },
  "language_info": {
   "codemirror_mode": {
    "name": "ipython",
    "version": 2
   },
   "file_extension": ".py",
   "mimetype": "text/x-python",
   "name": "python",
   "nbconvert_exporter": "python",
   "pygments_lexer": "ipython2",
   "version": "2.7.16"
  }
 },
 "nbformat": 4,
 "nbformat_minor": 2
}
