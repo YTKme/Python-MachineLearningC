{
 "cells": [
  {
   "cell_type": "markdown",
   "metadata": {},
   "source": [
    "# Quiz"
   ]
  },
  {
   "cell_type": "markdown",
   "metadata": {},
   "source": [
    "1. Which of the following is NOT a linear regression model. *Hint: remember that a linear regression model is always linear in the parameters, but may use non-linear features.*\n",
    "    * y=w0*w1+log(w1)*x\n",
    "\n",
    "2. Your estimated model for predicting house prices has a large positive weight on 'square feet living'. This implies that if we remove the feature 'square feet living' and refit the model, the new predictive performance will be **worse** than before.\n",
    "    * False\n",
    "\n",
    "3. Complete the following: Your estimated model for predicting house prices has a positive weight on 'square feet living'. You then add 'lot size' to the model and re-estimate the feature weights. The new weight on 'square feet living' [_________] be positive.\n",
    "    * might\n",
    "    \n",
    "4. If you double the value of a given feature (i.e. a specific column of the feature matrix), what happens to the least-squares estimated coefficients for every **other** feature? (assume you have no other feature that depends on the doubled feature i.e. no interaction terms).\n",
    "    * They stay the same\n",
    "\n",
    "5. Gradient descent/ascent is...\n",
    "    * An algorithm for minimizing/maximizing a function\n",
    "    \n",
    "6. Gradient descent/ascent allows us to...\n",
    "    * Estimate model parameters from data\n",
    "    \n",
    "7. Which of the following statements about step-size in gradient descent is/are **TRUE** (select all that apply)\n",
    "    * If the step-size is too large gradient descent may not converge\n",
    "    * If the step size is too small (but not zero) gradient descent may take a very long time to converge\n",
    "    \n",
    "8. Let's analyze how many computations are required to fit a multiple linear regression model using the closed-form solution based on a data set with 50 observations and 10 features. In the videos, we said that computing the inverse of the 10x10 matrix H^T*H was on the order of D^3 operations. Let's focus on forming this matrix **prior** to inversion. How many multiplications are required to form the matrix H^T*H?\n",
    "    * 5000 (N x D x D = 50 x 10 x 10 = 5000 (review Linear Algebra) be patient)\n",
    "    \n",
    "9. More generally, if you have D features and N observations what is the total complexity of computing (H^T*H)^−1?\n",
    "    * O(N*D^2 + D^3)"
   ]
  },
  {
   "cell_type": "code",
   "execution_count": null,
   "metadata": {},
   "outputs": [],
   "source": []
  }
 ],
 "metadata": {
  "kernelspec": {
   "display_name": "Python 2",
   "language": "python",
   "name": "python2"
  },
  "language_info": {
   "codemirror_mode": {
    "name": "ipython",
    "version": 2
   },
   "file_extension": ".py",
   "mimetype": "text/x-python",
   "name": "python",
   "nbconvert_exporter": "python",
   "pygments_lexer": "ipython2",
   "version": "2.7.16"
  }
 },
 "nbformat": 4,
 "nbformat_minor": 2
}
